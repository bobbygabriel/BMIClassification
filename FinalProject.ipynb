{
  "nbformat": 4,
  "nbformat_minor": 0,
  "metadata": {
    "colab": {
      "provenance": []
    },
    "kernelspec": {
      "name": "python3",
      "display_name": "Python 3"
    },
    "language_info": {
      "name": "python"
    }
  },
  "cells": [
    {
      "cell_type": "markdown",
      "source": [
        "## Importing the libraries and dataset"
      ],
      "metadata": {
        "id": "sBMDtBO8IRzt"
      }
    },
    {
      "cell_type": "code",
      "execution_count": 7,
      "metadata": {
        "id": "M8h3e9YhC8La"
      },
      "outputs": [],
      "source": [
        "import numpy as np\n",
        "import pandas as pd\n",
        "import matplotlib.pyplot as plt\n",
        "import seaborn as sns\n",
        "from sklearn.linear_model import LogisticRegression\n",
        "from sklearn.preprocessing import StandardScaler\n",
        "from sklearn.metrics import confusion_matrix, ConfusionMatrixDisplay, classification_report\n",
        "from sklearn.tree import DecisionTreeClassifier\n",
        "from sklearn.ensemble import RandomForestClassifier\n",
        "from sklearn.svm import SVC\n",
        "from sklearn.model_selection import GridSearchCV\n",
        "from sklearn.ensemble import AdaBoostClassifier\n",
        "from prettytable import PrettyTable\n",
        "from tensorflow.keras import Sequential\n",
        "from tensorflow.keras.layers import Dense"
      ]
    },
    {
      "cell_type": "code",
      "source": [
        "data = pd.read_csv('/content/drive/MyDrive/Colab Notebooks/bmi.csv')"
      ],
      "metadata": {
        "id": "GWxHt9gPIf6X"
      },
      "execution_count": 8,
      "outputs": []
    },
    {
      "cell_type": "code",
      "source": [
        "data.head()"
      ],
      "metadata": {
        "colab": {
          "base_uri": "https://localhost:8080/",
          "height": 204
        },
        "id": "uuoPLXyzIoQ-",
        "outputId": "bef7e480-d7ed-482f-9954-33b51e11352b"
      },
      "execution_count": 9,
      "outputs": [
        {
          "output_type": "execute_result",
          "data": {
            "text/plain": [
              "   Gender  Height  Weight  Index\n",
              "0    Male     174      96      4\n",
              "1    Male     189      87      2\n",
              "2  Female     185     110      4\n",
              "3  Female     195     104      3\n",
              "4    Male     149      61      3"
            ],
            "text/html": [
              "\n",
              "  <div id=\"df-a5fa115f-bc13-4858-bbd6-742e1dfc7150\">\n",
              "    <div class=\"colab-df-container\">\n",
              "      <div>\n",
              "<style scoped>\n",
              "    .dataframe tbody tr th:only-of-type {\n",
              "        vertical-align: middle;\n",
              "    }\n",
              "\n",
              "    .dataframe tbody tr th {\n",
              "        vertical-align: top;\n",
              "    }\n",
              "\n",
              "    .dataframe thead th {\n",
              "        text-align: right;\n",
              "    }\n",
              "</style>\n",
              "<table border=\"1\" class=\"dataframe\">\n",
              "  <thead>\n",
              "    <tr style=\"text-align: right;\">\n",
              "      <th></th>\n",
              "      <th>Gender</th>\n",
              "      <th>Height</th>\n",
              "      <th>Weight</th>\n",
              "      <th>Index</th>\n",
              "    </tr>\n",
              "  </thead>\n",
              "  <tbody>\n",
              "    <tr>\n",
              "      <th>0</th>\n",
              "      <td>Male</td>\n",
              "      <td>174</td>\n",
              "      <td>96</td>\n",
              "      <td>4</td>\n",
              "    </tr>\n",
              "    <tr>\n",
              "      <th>1</th>\n",
              "      <td>Male</td>\n",
              "      <td>189</td>\n",
              "      <td>87</td>\n",
              "      <td>2</td>\n",
              "    </tr>\n",
              "    <tr>\n",
              "      <th>2</th>\n",
              "      <td>Female</td>\n",
              "      <td>185</td>\n",
              "      <td>110</td>\n",
              "      <td>4</td>\n",
              "    </tr>\n",
              "    <tr>\n",
              "      <th>3</th>\n",
              "      <td>Female</td>\n",
              "      <td>195</td>\n",
              "      <td>104</td>\n",
              "      <td>3</td>\n",
              "    </tr>\n",
              "    <tr>\n",
              "      <th>4</th>\n",
              "      <td>Male</td>\n",
              "      <td>149</td>\n",
              "      <td>61</td>\n",
              "      <td>3</td>\n",
              "    </tr>\n",
              "  </tbody>\n",
              "</table>\n",
              "</div>\n",
              "      <button class=\"colab-df-convert\" onclick=\"convertToInteractive('df-a5fa115f-bc13-4858-bbd6-742e1dfc7150')\"\n",
              "              title=\"Convert this dataframe to an interactive table.\"\n",
              "              style=\"display:none;\">\n",
              "        \n",
              "  <svg xmlns=\"http://www.w3.org/2000/svg\" height=\"24px\"viewBox=\"0 0 24 24\"\n",
              "       width=\"24px\">\n",
              "    <path d=\"M0 0h24v24H0V0z\" fill=\"none\"/>\n",
              "    <path d=\"M18.56 5.44l.94 2.06.94-2.06 2.06-.94-2.06-.94-.94-2.06-.94 2.06-2.06.94zm-11 1L8.5 8.5l.94-2.06 2.06-.94-2.06-.94L8.5 2.5l-.94 2.06-2.06.94zm10 10l.94 2.06.94-2.06 2.06-.94-2.06-.94-.94-2.06-.94 2.06-2.06.94z\"/><path d=\"M17.41 7.96l-1.37-1.37c-.4-.4-.92-.59-1.43-.59-.52 0-1.04.2-1.43.59L10.3 9.45l-7.72 7.72c-.78.78-.78 2.05 0 2.83L4 21.41c.39.39.9.59 1.41.59.51 0 1.02-.2 1.41-.59l7.78-7.78 2.81-2.81c.8-.78.8-2.07 0-2.86zM5.41 20L4 18.59l7.72-7.72 1.47 1.35L5.41 20z\"/>\n",
              "  </svg>\n",
              "      </button>\n",
              "      \n",
              "  <style>\n",
              "    .colab-df-container {\n",
              "      display:flex;\n",
              "      flex-wrap:wrap;\n",
              "      gap: 12px;\n",
              "    }\n",
              "\n",
              "    .colab-df-convert {\n",
              "      background-color: #E8F0FE;\n",
              "      border: none;\n",
              "      border-radius: 50%;\n",
              "      cursor: pointer;\n",
              "      display: none;\n",
              "      fill: #1967D2;\n",
              "      height: 32px;\n",
              "      padding: 0 0 0 0;\n",
              "      width: 32px;\n",
              "    }\n",
              "\n",
              "    .colab-df-convert:hover {\n",
              "      background-color: #E2EBFA;\n",
              "      box-shadow: 0px 1px 2px rgba(60, 64, 67, 0.3), 0px 1px 3px 1px rgba(60, 64, 67, 0.15);\n",
              "      fill: #174EA6;\n",
              "    }\n",
              "\n",
              "    [theme=dark] .colab-df-convert {\n",
              "      background-color: #3B4455;\n",
              "      fill: #D2E3FC;\n",
              "    }\n",
              "\n",
              "    [theme=dark] .colab-df-convert:hover {\n",
              "      background-color: #434B5C;\n",
              "      box-shadow: 0px 1px 3px 1px rgba(0, 0, 0, 0.15);\n",
              "      filter: drop-shadow(0px 1px 2px rgba(0, 0, 0, 0.3));\n",
              "      fill: #FFFFFF;\n",
              "    }\n",
              "  </style>\n",
              "\n",
              "      <script>\n",
              "        const buttonEl =\n",
              "          document.querySelector('#df-a5fa115f-bc13-4858-bbd6-742e1dfc7150 button.colab-df-convert');\n",
              "        buttonEl.style.display =\n",
              "          google.colab.kernel.accessAllowed ? 'block' : 'none';\n",
              "\n",
              "        async function convertToInteractive(key) {\n",
              "          const element = document.querySelector('#df-a5fa115f-bc13-4858-bbd6-742e1dfc7150');\n",
              "          const dataTable =\n",
              "            await google.colab.kernel.invokeFunction('convertToInteractive',\n",
              "                                                     [key], {});\n",
              "          if (!dataTable) return;\n",
              "\n",
              "          const docLinkHtml = 'Like what you see? Visit the ' +\n",
              "            '<a target=\"_blank\" href=https://colab.research.google.com/notebooks/data_table.ipynb>data table notebook</a>'\n",
              "            + ' to learn more about interactive tables.';\n",
              "          element.innerHTML = '';\n",
              "          dataTable['output_type'] = 'display_data';\n",
              "          await google.colab.output.renderOutput(dataTable, element);\n",
              "          const docLink = document.createElement('div');\n",
              "          docLink.innerHTML = docLinkHtml;\n",
              "          element.appendChild(docLink);\n",
              "        }\n",
              "      </script>\n",
              "    </div>\n",
              "  </div>\n",
              "  "
            ]
          },
          "metadata": {},
          "execution_count": 9
        }
      ]
    },
    {
      "cell_type": "code",
      "source": [
        "data.info()"
      ],
      "metadata": {
        "colab": {
          "base_uri": "https://localhost:8080/"
        },
        "id": "65SVKpdnIv-b",
        "outputId": "af2a2c6d-04eb-4046-9c06-6186c063e715"
      },
      "execution_count": 10,
      "outputs": [
        {
          "output_type": "stream",
          "name": "stdout",
          "text": [
            "<class 'pandas.core.frame.DataFrame'>\n",
            "RangeIndex: 500 entries, 0 to 499\n",
            "Data columns (total 4 columns):\n",
            " #   Column  Non-Null Count  Dtype \n",
            "---  ------  --------------  ----- \n",
            " 0   Gender  500 non-null    object\n",
            " 1   Height  500 non-null    int64 \n",
            " 2   Weight  500 non-null    int64 \n",
            " 3   Index   500 non-null    int64 \n",
            "dtypes: int64(3), object(1)\n",
            "memory usage: 15.8+ KB\n"
          ]
        }
      ]
    },
    {
      "cell_type": "markdown",
      "source": [
        "## Data Preprocessing - encoding object column with dummy variables"
      ],
      "metadata": {
        "id": "RkhMCtRaI3eq"
      }
    },
    {
      "cell_type": "code",
      "source": [
        "data=pd.get_dummies(data, ['Gender'])"
      ],
      "metadata": {
        "id": "YN7BkNafI3Ih"
      },
      "execution_count": 11,
      "outputs": []
    },
    {
      "cell_type": "code",
      "source": [
        "data.head()"
      ],
      "metadata": {
        "colab": {
          "base_uri": "https://localhost:8080/",
          "height": 204
        },
        "id": "ufeeYSmNZmUi",
        "outputId": "7ed04a10-572a-497d-b1d1-0a3b1933c8fb"
      },
      "execution_count": 12,
      "outputs": [
        {
          "output_type": "execute_result",
          "data": {
            "text/plain": [
              "   Height  Weight  Index  Gender_Female  Gender_Male\n",
              "0     174      96      4              0            1\n",
              "1     189      87      2              0            1\n",
              "2     185     110      4              1            0\n",
              "3     195     104      3              1            0\n",
              "4     149      61      3              0            1"
            ],
            "text/html": [
              "\n",
              "  <div id=\"df-d63f9e68-5012-4369-8df8-63afaa469d6a\">\n",
              "    <div class=\"colab-df-container\">\n",
              "      <div>\n",
              "<style scoped>\n",
              "    .dataframe tbody tr th:only-of-type {\n",
              "        vertical-align: middle;\n",
              "    }\n",
              "\n",
              "    .dataframe tbody tr th {\n",
              "        vertical-align: top;\n",
              "    }\n",
              "\n",
              "    .dataframe thead th {\n",
              "        text-align: right;\n",
              "    }\n",
              "</style>\n",
              "<table border=\"1\" class=\"dataframe\">\n",
              "  <thead>\n",
              "    <tr style=\"text-align: right;\">\n",
              "      <th></th>\n",
              "      <th>Height</th>\n",
              "      <th>Weight</th>\n",
              "      <th>Index</th>\n",
              "      <th>Gender_Female</th>\n",
              "      <th>Gender_Male</th>\n",
              "    </tr>\n",
              "  </thead>\n",
              "  <tbody>\n",
              "    <tr>\n",
              "      <th>0</th>\n",
              "      <td>174</td>\n",
              "      <td>96</td>\n",
              "      <td>4</td>\n",
              "      <td>0</td>\n",
              "      <td>1</td>\n",
              "    </tr>\n",
              "    <tr>\n",
              "      <th>1</th>\n",
              "      <td>189</td>\n",
              "      <td>87</td>\n",
              "      <td>2</td>\n",
              "      <td>0</td>\n",
              "      <td>1</td>\n",
              "    </tr>\n",
              "    <tr>\n",
              "      <th>2</th>\n",
              "      <td>185</td>\n",
              "      <td>110</td>\n",
              "      <td>4</td>\n",
              "      <td>1</td>\n",
              "      <td>0</td>\n",
              "    </tr>\n",
              "    <tr>\n",
              "      <th>3</th>\n",
              "      <td>195</td>\n",
              "      <td>104</td>\n",
              "      <td>3</td>\n",
              "      <td>1</td>\n",
              "      <td>0</td>\n",
              "    </tr>\n",
              "    <tr>\n",
              "      <th>4</th>\n",
              "      <td>149</td>\n",
              "      <td>61</td>\n",
              "      <td>3</td>\n",
              "      <td>0</td>\n",
              "      <td>1</td>\n",
              "    </tr>\n",
              "  </tbody>\n",
              "</table>\n",
              "</div>\n",
              "      <button class=\"colab-df-convert\" onclick=\"convertToInteractive('df-d63f9e68-5012-4369-8df8-63afaa469d6a')\"\n",
              "              title=\"Convert this dataframe to an interactive table.\"\n",
              "              style=\"display:none;\">\n",
              "        \n",
              "  <svg xmlns=\"http://www.w3.org/2000/svg\" height=\"24px\"viewBox=\"0 0 24 24\"\n",
              "       width=\"24px\">\n",
              "    <path d=\"M0 0h24v24H0V0z\" fill=\"none\"/>\n",
              "    <path d=\"M18.56 5.44l.94 2.06.94-2.06 2.06-.94-2.06-.94-.94-2.06-.94 2.06-2.06.94zm-11 1L8.5 8.5l.94-2.06 2.06-.94-2.06-.94L8.5 2.5l-.94 2.06-2.06.94zm10 10l.94 2.06.94-2.06 2.06-.94-2.06-.94-.94-2.06-.94 2.06-2.06.94z\"/><path d=\"M17.41 7.96l-1.37-1.37c-.4-.4-.92-.59-1.43-.59-.52 0-1.04.2-1.43.59L10.3 9.45l-7.72 7.72c-.78.78-.78 2.05 0 2.83L4 21.41c.39.39.9.59 1.41.59.51 0 1.02-.2 1.41-.59l7.78-7.78 2.81-2.81c.8-.78.8-2.07 0-2.86zM5.41 20L4 18.59l7.72-7.72 1.47 1.35L5.41 20z\"/>\n",
              "  </svg>\n",
              "      </button>\n",
              "      \n",
              "  <style>\n",
              "    .colab-df-container {\n",
              "      display:flex;\n",
              "      flex-wrap:wrap;\n",
              "      gap: 12px;\n",
              "    }\n",
              "\n",
              "    .colab-df-convert {\n",
              "      background-color: #E8F0FE;\n",
              "      border: none;\n",
              "      border-radius: 50%;\n",
              "      cursor: pointer;\n",
              "      display: none;\n",
              "      fill: #1967D2;\n",
              "      height: 32px;\n",
              "      padding: 0 0 0 0;\n",
              "      width: 32px;\n",
              "    }\n",
              "\n",
              "    .colab-df-convert:hover {\n",
              "      background-color: #E2EBFA;\n",
              "      box-shadow: 0px 1px 2px rgba(60, 64, 67, 0.3), 0px 1px 3px 1px rgba(60, 64, 67, 0.15);\n",
              "      fill: #174EA6;\n",
              "    }\n",
              "\n",
              "    [theme=dark] .colab-df-convert {\n",
              "      background-color: #3B4455;\n",
              "      fill: #D2E3FC;\n",
              "    }\n",
              "\n",
              "    [theme=dark] .colab-df-convert:hover {\n",
              "      background-color: #434B5C;\n",
              "      box-shadow: 0px 1px 3px 1px rgba(0, 0, 0, 0.15);\n",
              "      filter: drop-shadow(0px 1px 2px rgba(0, 0, 0, 0.3));\n",
              "      fill: #FFFFFF;\n",
              "    }\n",
              "  </style>\n",
              "\n",
              "      <script>\n",
              "        const buttonEl =\n",
              "          document.querySelector('#df-d63f9e68-5012-4369-8df8-63afaa469d6a button.colab-df-convert');\n",
              "        buttonEl.style.display =\n",
              "          google.colab.kernel.accessAllowed ? 'block' : 'none';\n",
              "\n",
              "        async function convertToInteractive(key) {\n",
              "          const element = document.querySelector('#df-d63f9e68-5012-4369-8df8-63afaa469d6a');\n",
              "          const dataTable =\n",
              "            await google.colab.kernel.invokeFunction('convertToInteractive',\n",
              "                                                     [key], {});\n",
              "          if (!dataTable) return;\n",
              "\n",
              "          const docLinkHtml = 'Like what you see? Visit the ' +\n",
              "            '<a target=\"_blank\" href=https://colab.research.google.com/notebooks/data_table.ipynb>data table notebook</a>'\n",
              "            + ' to learn more about interactive tables.';\n",
              "          element.innerHTML = '';\n",
              "          dataTable['output_type'] = 'display_data';\n",
              "          await google.colab.output.renderOutput(dataTable, element);\n",
              "          const docLink = document.createElement('div');\n",
              "          docLink.innerHTML = docLinkHtml;\n",
              "          element.appendChild(docLink);\n",
              "        }\n",
              "      </script>\n",
              "    </div>\n",
              "  </div>\n",
              "  "
            ]
          },
          "metadata": {},
          "execution_count": 12
        }
      ]
    },
    {
      "cell_type": "markdown",
      "source": [
        "## Splitting the dataset "
      ],
      "metadata": {
        "id": "UrWZLfSSJGro"
      }
    },
    {
      "cell_type": "code",
      "source": [
        "x=data.drop('Index', axis=1)\n",
        "y=data['Index']"
      ],
      "metadata": {
        "id": "m8B0aFx5JQ3U"
      },
      "execution_count": 13,
      "outputs": []
    },
    {
      "cell_type": "code",
      "source": [
        "from sklearn.model_selection import train_test_split\n",
        "x_train,x_test,y_train,y_test=train_test_split(x,y,test_size=.20, random_state=42, stratify=y)"
      ],
      "metadata": {
        "id": "q49wLtHzJIcR"
      },
      "execution_count": 14,
      "outputs": []
    },
    {
      "cell_type": "markdown",
      "source": [
        "## Scaling the data"
      ],
      "metadata": {
        "id": "-jUa-O9aKyy-"
      }
    },
    {
      "cell_type": "code",
      "source": [
        "sc_x=StandardScaler()\n",
        "x_train=sc_x.fit_transform(x_train)\n",
        "x_test=sc_x.transform(x_test)"
      ],
      "metadata": {
        "id": "DSu4DfXvLF2l"
      },
      "execution_count": 15,
      "outputs": []
    },
    {
      "cell_type": "markdown",
      "source": [
        "# Logistic Regression"
      ],
      "metadata": {
        "id": "9fP7AjtgKa5G"
      }
    },
    {
      "cell_type": "code",
      "source": [
        "lr=LogisticRegression(random_state=0)\n",
        "lr.fit(x_train,y_train)"
      ],
      "metadata": {
        "colab": {
          "base_uri": "https://localhost:8080/"
        },
        "id": "2dA12-YzKci7",
        "outputId": "3beb4d7d-7fed-4850-fef0-4dabaaaca5c7"
      },
      "execution_count": 16,
      "outputs": [
        {
          "output_type": "execute_result",
          "data": {
            "text/plain": [
              "LogisticRegression(random_state=0)"
            ]
          },
          "metadata": {},
          "execution_count": 16
        }
      ]
    },
    {
      "cell_type": "code",
      "source": [
        "Log_reg_score = lr.score(x_train,y_train)\n",
        "print('Logistic Regression accuracy:', Log_reg_score)"
      ],
      "metadata": {
        "colab": {
          "base_uri": "https://localhost:8080/"
        },
        "id": "RDUSAGZHLP9f",
        "outputId": "c32fd178-fd25-4e9b-cad1-65e81b088e99"
      },
      "execution_count": 17,
      "outputs": [
        {
          "output_type": "stream",
          "name": "stdout",
          "text": [
            "Logistic Regression accuracy: 0.8625\n"
          ]
        }
      ]
    },
    {
      "cell_type": "code",
      "source": [
        "y_pred_lr=lr.predict(x_test)"
      ],
      "metadata": {
        "id": "HFNxiG51L6cD"
      },
      "execution_count": 18,
      "outputs": []
    },
    {
      "cell_type": "code",
      "source": [
        "LR_cm=confusion_matrix(y_test,y_pred_lr)"
      ],
      "metadata": {
        "id": "2eW-LJBIL89Y"
      },
      "execution_count": 19,
      "outputs": []
    },
    {
      "cell_type": "code",
      "source": [
        "disp=ConfusionMatrixDisplay(confusion_matrix=LR_cm, display_labels=lr.classes_)\n",
        "disp.plot()\n",
        "plt.show()"
      ],
      "metadata": {
        "colab": {
          "base_uri": "https://localhost:8080/",
          "height": 279
        },
        "id": "duDW_z_ZMGlh",
        "outputId": "ac0adf97-9956-450a-b5c9-2804c9b029e4"
      },
      "execution_count": 20,
      "outputs": [
        {
          "output_type": "display_data",
          "data": {
            "text/plain": [
              "<Figure size 432x288 with 2 Axes>"
            ],
            "image/png": "[encoded data removed]"
          },
          "metadata": {
            "needs_background": "light"
          }
        }
      ]
    },
    {
      "cell_type": "code",
      "source": [
        "print(classification_report(y_test, y_pred_lr, zero_division=True))"
      ],
      "metadata": {
        "colab": {
          "base_uri": "https://localhost:8080/"
        },
        "id": "09r3J6UuNKhF",
        "outputId": "af756e51-eaab-45bf-8275-b368c27daf09"
      },
      "execution_count": 21,
      "outputs": [
        {
          "output_type": "stream",
          "name": "stdout",
          "text": [
            "              precision    recall  f1-score   support\n",
            "\n",
            "           0       1.00      0.00      0.00         3\n",
            "           1       0.25      0.25      0.25         4\n",
            "           2       0.78      1.00      0.88        14\n",
            "           3       1.00      0.57      0.73        14\n",
            "           4       0.81      0.96      0.88        26\n",
            "           5       0.97      0.97      0.97        39\n",
            "\n",
            "    accuracy                           0.86       100\n",
            "   macro avg       0.80      0.63      0.62       100\n",
            "weighted avg       0.88      0.86      0.84       100\n",
            "\n"
          ]
        }
      ]
    },
    {
      "cell_type": "markdown",
      "source": [
        "# Random Forest Classification "
      ],
      "metadata": {
        "id": "iy3Xm8x3OUG0"
      }
    },
    {
      "cell_type": "code",
      "source": [
        "RFC=RandomForestClassifier(n_estimators=500)\n",
        "RFC.fit(x_train, y_train)"
      ],
      "metadata": {
        "colab": {
          "base_uri": "https://localhost:8080/"
        },
        "id": "KF7AaEsCOX7S",
        "outputId": "21ce4f8c-e935-4ad6-d80f-a71c1c4ea462"
      },
      "execution_count": 22,
      "outputs": [
        {
          "output_type": "execute_result",
          "data": {
            "text/plain": [
              "RandomForestClassifier(n_estimators=500)"
            ]
          },
          "metadata": {},
          "execution_count": 22
        }
      ]
    },
    {
      "cell_type": "code",
      "source": [
        "RFC_score = RFC.score(x_test, y_test)\n",
        "print('Random Forest accuracy:', RFC_score)"
      ],
      "metadata": {
        "colab": {
          "base_uri": "https://localhost:8080/"
        },
        "id": "ywVXFeZsPBbx",
        "outputId": "ee35b116-578b-4a55-c0c5-3241837c9b15"
      },
      "execution_count": 23,
      "outputs": [
        {
          "output_type": "stream",
          "name": "stdout",
          "text": [
            "Random Forest accuracy: 0.82\n"
          ]
        }
      ]
    },
    {
      "cell_type": "code",
      "source": [
        "y_pred_rf = RFC.predict(x_test)"
      ],
      "metadata": {
        "id": "6vJWlsHkPYTY"
      },
      "execution_count": 24,
      "outputs": []
    },
    {
      "cell_type": "code",
      "source": [
        "RF_cm=confusion_matrix(y_test,y_pred_rf)"
      ],
      "metadata": {
        "id": "Up4FvPBqPgoM"
      },
      "execution_count": 25,
      "outputs": []
    },
    {
      "cell_type": "code",
      "source": [
        "disp=ConfusionMatrixDisplay(confusion_matrix=RF_cm, display_labels=RFC.classes_)\n",
        "disp.plot()\n",
        "plt.show()"
      ],
      "metadata": {
        "colab": {
          "base_uri": "https://localhost:8080/",
          "height": 283
        },
        "id": "z2BCiPABPnNC",
        "outputId": "7752423d-8066-4faa-cf2d-9fd72d4b26ae"
      },
      "execution_count": 26,
      "outputs": [
        {
          "output_type": "display_data",
          "data": {
            "text/plain": [
              "<Figure size 432x288 with 2 Axes>"
            ],
            "image/png": "[encoded data removed]"
          },
          "metadata": {
            "needs_background": "light"
          }
        }
      ]
    },
    {
      "cell_type": "code",
      "source": [
        "print(classification_report(y_test, y_pred_rf, zero_division=True))"
      ],
      "metadata": {
        "colab": {
          "base_uri": "https://localhost:8080/"
        },
        "id": "LmwTNhu_PrxZ",
        "outputId": "ab8fc351-b6d3-4bc4-84e4-360c0c6e30dd"
      },
      "execution_count": 27,
      "outputs": [
        {
          "output_type": "stream",
          "name": "stdout",
          "text": [
            "              precision    recall  f1-score   support\n",
            "\n",
            "           0       0.67      0.67      0.67         3\n",
            "           1       0.50      0.50      0.50         4\n",
            "           2       0.86      0.86      0.86        14\n",
            "           3       0.89      0.57      0.70        14\n",
            "           4       0.72      0.88      0.79        26\n",
            "           5       0.92      0.90      0.91        39\n",
            "\n",
            "    accuracy                           0.82       100\n",
            "   macro avg       0.76      0.73      0.74       100\n",
            "weighted avg       0.83      0.82      0.82       100\n",
            "\n"
          ]
        }
      ]
    },
    {
      "cell_type": "markdown",
      "source": [
        "# Decision Tree Classification"
      ],
      "metadata": {
        "id": "KAISIW2vOlHy"
      }
    },
    {
      "cell_type": "code",
      "source": [
        "DT=DecisionTreeClassifier()\n",
        "DT.fit(x_train, y_train)"
      ],
      "metadata": {
        "colab": {
          "base_uri": "https://localhost:8080/"
        },
        "id": "6nZIDLjFOnr-",
        "outputId": "7c3b65ef-a854-4c4d-aec7-15b68d820e81"
      },
      "execution_count": 28,
      "outputs": [
        {
          "output_type": "execute_result",
          "data": {
            "text/plain": [
              "DecisionTreeClassifier()"
            ]
          },
          "metadata": {},
          "execution_count": 28
        }
      ]
    },
    {
      "cell_type": "code",
      "source": [
        "DT_score = DT.score(x_test, y_test)\n",
        "print('Decision Tree accuracy:', DT_score)"
      ],
      "metadata": {
        "colab": {
          "base_uri": "https://localhost:8080/"
        },
        "id": "ayurgwPlOtXs",
        "outputId": "86560eac-957e-4ffa-d61d-945ae41f1399"
      },
      "execution_count": 29,
      "outputs": [
        {
          "output_type": "stream",
          "name": "stdout",
          "text": [
            "Decision Tree accuracy: 0.82\n"
          ]
        }
      ]
    },
    {
      "cell_type": "code",
      "source": [
        "y_pred_dt = DT.predict(x_test)"
      ],
      "metadata": {
        "id": "1rlbMsFqPw42"
      },
      "execution_count": 30,
      "outputs": []
    },
    {
      "cell_type": "code",
      "source": [
        "DT_cm=confusion_matrix(y_test,y_pred_dt)"
      ],
      "metadata": {
        "id": "GPn_0tOOP0Hb"
      },
      "execution_count": 31,
      "outputs": []
    },
    {
      "cell_type": "code",
      "source": [
        "disp=ConfusionMatrixDisplay(confusion_matrix=DT_cm, display_labels=DT.classes_)\n",
        "disp.plot()\n",
        "plt.show()"
      ],
      "metadata": {
        "colab": {
          "base_uri": "https://localhost:8080/",
          "height": 279
        },
        "id": "S3l5YjWlP4EM",
        "outputId": "f141e1a8-ee28-4ee1-d5ff-a602506c57d0"
      },
      "execution_count": 32,
      "outputs": [
        {
          "output_type": "display_data",
          "data": {
            "text/plain": [
              "<Figure size 432x288 with 2 Axes>"
            ],
            "image/png": "[encoded data removed]"
          },
          "metadata": {
            "needs_background": "light"
          }
        }
      ]
    },
    {
      "cell_type": "code",
      "source": [
        "print(classification_report(y_test, y_pred_dt, zero_division=True))"
      ],
      "metadata": {
        "colab": {
          "base_uri": "https://localhost:8080/"
        },
        "id": "zahfcN2sP7mf",
        "outputId": "31cee267-6c18-4fd6-b488-ec15828bdf27"
      },
      "execution_count": 33,
      "outputs": [
        {
          "output_type": "stream",
          "name": "stdout",
          "text": [
            "              precision    recall  f1-score   support\n",
            "\n",
            "           0       0.50      1.00      0.67         3\n",
            "           1       1.00      0.50      0.67         4\n",
            "           2       0.86      0.86      0.86        14\n",
            "           3       0.88      0.50      0.64        14\n",
            "           4       0.73      0.85      0.79        26\n",
            "           5       0.90      0.92      0.91        39\n",
            "\n",
            "    accuracy                           0.82       100\n",
            "   macro avg       0.81      0.77      0.75       100\n",
            "weighted avg       0.84      0.82      0.82       100\n",
            "\n"
          ]
        }
      ]
    },
    {
      "cell_type": "markdown",
      "source": [
        "# SVC Classification"
      ],
      "metadata": {
        "id": "rb6lpLUHQOgR"
      }
    },
    {
      "cell_type": "code",
      "source": [
        "SVC_model=SVC(kernel='linear')\n"
      ],
      "metadata": {
        "id": "y-RbpEZqQRHY"
      },
      "execution_count": 34,
      "outputs": []
    },
    {
      "cell_type": "code",
      "source": [
        "SVC_model.fit(x_train, y_train)"
      ],
      "metadata": {
        "colab": {
          "base_uri": "https://localhost:8080/"
        },
        "id": "FT_ynJyBQgzH",
        "outputId": "cc59ded9-7091-445c-cfc4-5a6e05b29e90"
      },
      "execution_count": 35,
      "outputs": [
        {
          "output_type": "execute_result",
          "data": {
            "text/plain": [
              "SVC(kernel='linear')"
            ]
          },
          "metadata": {},
          "execution_count": 35
        }
      ]
    },
    {
      "cell_type": "code",
      "source": [
        "SVC_score = SVC_model.score(x_test, y_test)\n",
        "print('Support Vector accuracy:', SVC_score)"
      ],
      "metadata": {
        "colab": {
          "base_uri": "https://localhost:8080/"
        },
        "id": "TXVHAjmEQhlj",
        "outputId": "4e9d0466-b644-4ad0-fd01-2dccd22e5935"
      },
      "execution_count": 36,
      "outputs": [
        {
          "output_type": "stream",
          "name": "stdout",
          "text": [
            "Support Vector accuracy: 0.91\n"
          ]
        }
      ]
    },
    {
      "cell_type": "code",
      "source": [
        "y_pred_svc = SVC_model.predict(x_test)"
      ],
      "metadata": {
        "id": "BzpkH6sTQtd3"
      },
      "execution_count": 37,
      "outputs": []
    },
    {
      "cell_type": "code",
      "source": [
        "SVC_cm=confusion_matrix(y_test,y_pred_svc)"
      ],
      "metadata": {
        "id": "Q4vvxhGpRyrg"
      },
      "execution_count": 38,
      "outputs": []
    },
    {
      "cell_type": "code",
      "source": [
        "disp=ConfusionMatrixDisplay(confusion_matrix=SVC_cm, display_labels=SVC_model.classes_)\n",
        "disp.plot()\n",
        "plt.show()"
      ],
      "metadata": {
        "colab": {
          "base_uri": "https://localhost:8080/",
          "height": 279
        },
        "id": "mw9-YcbAR2H7",
        "outputId": "615fbd96-11dc-4774-d4e7-4f03e6726c9d"
      },
      "execution_count": 39,
      "outputs": [
        {
          "output_type": "display_data",
          "data": {
            "text/plain": [
              "<Figure size 432x288 with 2 Axes>"
            ],
            "image/png": "[encoded data removed]"
          },
          "metadata": {
            "needs_background": "light"
          }
        }
      ]
    },
    {
      "cell_type": "code",
      "source": [
        "print(classification_report(y_test, y_pred_svc, zero_division=True))"
      ],
      "metadata": {
        "colab": {
          "base_uri": "https://localhost:8080/"
        },
        "id": "SieKyRD1R7tU",
        "outputId": "b98550a3-0e21-48fa-92ec-ee77e914dcf9"
      },
      "execution_count": 40,
      "outputs": [
        {
          "output_type": "stream",
          "name": "stdout",
          "text": [
            "              precision    recall  f1-score   support\n",
            "\n",
            "           0       0.00      0.00      0.00         3\n",
            "           1       0.33      0.50      0.40         4\n",
            "           2       0.93      0.93      0.93        14\n",
            "           3       1.00      1.00      1.00        14\n",
            "           4       0.93      0.96      0.94        26\n",
            "           5       0.97      0.95      0.96        39\n",
            "\n",
            "    accuracy                           0.91       100\n",
            "   macro avg       0.69      0.72      0.71       100\n",
            "weighted avg       0.90      0.91      0.91       100\n",
            "\n"
          ]
        }
      ]
    },
    {
      "cell_type": "markdown",
      "source": [
        "# ADA Boosting Classifier"
      ],
      "metadata": {
        "id": "GKGGVVV4bopc"
      }
    },
    {
      "cell_type": "code",
      "source": [
        "ada_clf=AdaBoostClassifier(n_estimators=1000, random_state=100, learning_rate=3)\n",
        "ada_clf.fit(x_train, y_train)"
      ],
      "metadata": {
        "colab": {
          "base_uri": "https://localhost:8080/"
        },
        "id": "lBVw2OxXbmqy",
        "outputId": "f428c58a-6df4-4a56-8ed9-1f4f4ccfe3cc"
      },
      "execution_count": 41,
      "outputs": [
        {
          "output_type": "execute_result",
          "data": {
            "text/plain": [
              "AdaBoostClassifier(learning_rate=3, n_estimators=1000, random_state=100)"
            ]
          },
          "metadata": {},
          "execution_count": 41
        }
      ]
    },
    {
      "cell_type": "code",
      "source": [
        "ada_score = ada_clf.score(x_test, y_test)\n",
        "print('ADA Boost accuracy:', ada_score)"
      ],
      "metadata": {
        "colab": {
          "base_uri": "https://localhost:8080/"
        },
        "id": "-btoDBJcb2AM",
        "outputId": "06220795-2677-4036-93a8-40878918ab34"
      },
      "execution_count": 42,
      "outputs": [
        {
          "output_type": "stream",
          "name": "stdout",
          "text": [
            "ADA Boost accuracy: 0.57\n"
          ]
        }
      ]
    },
    {
      "cell_type": "code",
      "source": [
        "y_pred_ada = ada_clf.predict(x_test)"
      ],
      "metadata": {
        "id": "Gy1s_rMccTQU"
      },
      "execution_count": 43,
      "outputs": []
    },
    {
      "cell_type": "code",
      "source": [
        "ada_cm=confusion_matrix(y_test,y_pred_ada)"
      ],
      "metadata": {
        "id": "cKmfo6MfcUMN"
      },
      "execution_count": 44,
      "outputs": []
    },
    {
      "cell_type": "code",
      "source": [
        "disp=ConfusionMatrixDisplay(confusion_matrix=ada_cm, display_labels=ada_clf.classes_)\n",
        "disp.plot()\n",
        "plt.show()"
      ],
      "metadata": {
        "colab": {
          "base_uri": "https://localhost:8080/",
          "height": 279
        },
        "id": "b5yyO785cW2M",
        "outputId": "d3c92d98-014a-484b-872d-0ff2ac837c6c"
      },
      "execution_count": 45,
      "outputs": [
        {
          "output_type": "display_data",
          "data": {
            "text/plain": [
              "<Figure size 432x288 with 2 Axes>"
            ],
            "image/png": "[encoded data removed]"
          },
          "metadata": {
            "needs_background": "light"
          }
        }
      ]
    },
    {
      "cell_type": "code",
      "source": [
        "print(classification_report(y_test, y_pred_svc, zero_division=True))"
      ],
      "metadata": {
        "colab": {
          "base_uri": "https://localhost:8080/"
        },
        "id": "1T4Vy6pFcY4i",
        "outputId": "6ab67de3-5225-417f-e245-257f5a5d194d"
      },
      "execution_count": 46,
      "outputs": [
        {
          "output_type": "stream",
          "name": "stdout",
          "text": [
            "              precision    recall  f1-score   support\n",
            "\n",
            "           0       0.00      0.00      0.00         3\n",
            "           1       0.33      0.50      0.40         4\n",
            "           2       0.93      0.93      0.93        14\n",
            "           3       1.00      1.00      1.00        14\n",
            "           4       0.93      0.96      0.94        26\n",
            "           5       0.97      0.95      0.96        39\n",
            "\n",
            "    accuracy                           0.91       100\n",
            "   macro avg       0.69      0.72      0.71       100\n",
            "weighted avg       0.90      0.91      0.91       100\n",
            "\n"
          ]
        }
      ]
    },
    {
      "cell_type": "markdown",
      "source": [
        "# Grid Search with Logistic Regression, Random Forest, SVC, and Decision Tree"
      ],
      "metadata": {
        "id": "lUltCJY6UDVS"
      }
    },
    {
      "cell_type": "markdown",
      "source": [
        "### Logistic Regression"
      ],
      "metadata": {
        "id": "d6ki4AFaUiOQ"
      }
    },
    {
      "cell_type": "code",
      "source": [
        "# defining parameter range\n",
        "param_grid = {'C': [0.1, 1, 10, 100, 1000], \n",
        "              'max_iter': [1000, 5000, 10000],\n",
        "              'solver': ['lbfgs', 'liblinear', 'sag']} \n",
        "  \n",
        "grid_model_lr = GridSearchCV(LogisticRegression(), param_grid, refit = True, verbose = 1)\n",
        "  \n",
        "# fitting the model for grid search\n",
        "grid_model_lr.fit(x_train, y_train)\n"
      ],
      "metadata": {
        "colab": {
          "base_uri": "https://localhost:8080/"
        },
        "id": "avkU9EzMSCJu",
        "outputId": "06209319-81b3-407c-cfdd-dd2d8cdd747c"
      },
      "execution_count": 47,
      "outputs": [
        {
          "output_type": "stream",
          "name": "stdout",
          "text": [
            "Fitting 5 folds for each of 45 candidates, totalling 225 fits\n"
          ]
        },
        {
          "output_type": "stream",
          "name": "stderr",
          "text": [
            "/usr/local/lib/python3.8/dist-packages/sklearn/linear_model/_sag.py:352: ConvergenceWarning: The max_iter was reached which means the coef_ did not converge\n",
            "  warnings.warn(\n",
            "/usr/local/lib/python3.8/dist-packages/sklearn/linear_model/_sag.py:352: ConvergenceWarning: The max_iter was reached which means the coef_ did not converge\n",
            "  warnings.warn(\n",
            "/usr/local/lib/python3.8/dist-packages/sklearn/linear_model/_sag.py:352: ConvergenceWarning: The max_iter was reached which means the coef_ did not converge\n",
            "  warnings.warn(\n"
          ]
        },
        {
          "output_type": "execute_result",
          "data": {
            "text/plain": [
              "GridSearchCV(estimator=LogisticRegression(),\n",
              "             param_grid={'C': [0.1, 1, 10, 100, 1000],\n",
              "                         'max_iter': [1000, 5000, 10000],\n",
              "                         'solver': ['lbfgs', 'liblinear', 'sag']},\n",
              "             verbose=1)"
            ]
          },
          "metadata": {},
          "execution_count": 47
        }
      ]
    },
    {
      "cell_type": "code",
      "source": [
        "lr_best_score = grid_model_lr.best_score_\n",
        "print(lr_best_score)"
      ],
      "metadata": {
        "colab": {
          "base_uri": "https://localhost:8080/"
        },
        "id": "D0GLib6OVl_Q",
        "outputId": "7380c954-2ac9-4e03-f558-4926e94db218"
      },
      "execution_count": 48,
      "outputs": [
        {
          "output_type": "stream",
          "name": "stdout",
          "text": [
            "0.93\n"
          ]
        }
      ]
    },
    {
      "cell_type": "code",
      "source": [
        "lr_best_params = grid_model_lr.best_params_\n",
        "print(lr_best_params)"
      ],
      "metadata": {
        "colab": {
          "base_uri": "https://localhost:8080/"
        },
        "id": "AC9l-PjZVqiu",
        "outputId": "51c7b856-0b31-451d-b973-72a4fe69c809"
      },
      "execution_count": 49,
      "outputs": [
        {
          "output_type": "stream",
          "name": "stdout",
          "text": [
            "{'C': 1000, 'max_iter': 1000, 'solver': 'lbfgs'}\n"
          ]
        }
      ]
    },
    {
      "cell_type": "markdown",
      "source": [
        "### Random Forest"
      ],
      "metadata": {
        "id": "laS3nlXAV-2M"
      }
    },
    {
      "cell_type": "code",
      "source": [
        "# defining parameter range\n",
        "param_grid = {'n_estimators': [100, 500, 1000],\n",
        "              'criterion': ['gini', 'entropy']} \n",
        "  \n",
        "grid_model_rf = GridSearchCV(RandomForestClassifier(), param_grid, refit = True, verbose = 1)\n",
        "  \n",
        "# fitting the model for grid search\n",
        "grid_model_rf.fit(x_train, y_train)\n"
      ],
      "metadata": {
        "colab": {
          "base_uri": "https://localhost:8080/"
        },
        "id": "nSIE3NqDWBIi",
        "outputId": "bfcbc7d2-fbc7-473c-ad19-33395610ab74"
      },
      "execution_count": 50,
      "outputs": [
        {
          "output_type": "stream",
          "name": "stdout",
          "text": [
            "Fitting 5 folds for each of 6 candidates, totalling 30 fits\n"
          ]
        },
        {
          "output_type": "execute_result",
          "data": {
            "text/plain": [
              "GridSearchCV(estimator=RandomForestClassifier(),\n",
              "             param_grid={'criterion': ['gini', 'entropy'],\n",
              "                         'n_estimators': [100, 500, 1000]},\n",
              "             verbose=1)"
            ]
          },
          "metadata": {},
          "execution_count": 50
        }
      ]
    },
    {
      "cell_type": "code",
      "source": [
        "rf_best_score = grid_model_rf.best_score_\n",
        "print(rf_best_score)"
      ],
      "metadata": {
        "colab": {
          "base_uri": "https://localhost:8080/"
        },
        "id": "6FjvGW8qWM1F",
        "outputId": "3d8acaf3-2fe3-42a6-884f-c3c55cc40b4b"
      },
      "execution_count": 51,
      "outputs": [
        {
          "output_type": "stream",
          "name": "stdout",
          "text": [
            "0.8525\n"
          ]
        }
      ]
    },
    {
      "cell_type": "code",
      "source": [
        "rf_best_params = grid_model_rf.best_params_\n",
        "print(rf_best_params)"
      ],
      "metadata": {
        "colab": {
          "base_uri": "https://localhost:8080/"
        },
        "id": "N4zhetusWLIr",
        "outputId": "3af83915-9d7e-4300-9107-d2d214833092"
      },
      "execution_count": 52,
      "outputs": [
        {
          "output_type": "stream",
          "name": "stdout",
          "text": [
            "{'criterion': 'entropy', 'n_estimators': 500}\n"
          ]
        }
      ]
    },
    {
      "cell_type": "markdown",
      "source": [
        "### SVC"
      ],
      "metadata": {
        "id": "Yejk1j6vXBjp"
      }
    },
    {
      "cell_type": "code",
      "source": [
        "# defining parameter range\n",
        "param_grid = {'C': [0.1, 1, 10, 100, 1000],\n",
        "              'random_state': [0, 42, 100],\n",
        "              'kernel': ['linear', 'poly', 'rbf']} \n",
        "  \n",
        "grid_model_svc = GridSearchCV(SVC(), param_grid, refit = True, verbose = 1)\n",
        "  \n",
        "# fitting the model for grid search\n",
        "grid_model_svc.fit(x_train, y_train)"
      ],
      "metadata": {
        "colab": {
          "base_uri": "https://localhost:8080/"
        },
        "id": "naOkeLmIXE4t",
        "outputId": "5a907ea6-8376-4893-d8e7-bb9802124293"
      },
      "execution_count": 53,
      "outputs": [
        {
          "output_type": "stream",
          "name": "stdout",
          "text": [
            "Fitting 5 folds for each of 45 candidates, totalling 225 fits\n"
          ]
        },
        {
          "output_type": "execute_result",
          "data": {
            "text/plain": [
              "GridSearchCV(estimator=SVC(),\n",
              "             param_grid={'C': [0.1, 1, 10, 100, 1000],\n",
              "                         'kernel': ['linear', 'poly', 'rbf'],\n",
              "                         'random_state': [0, 42, 100]},\n",
              "             verbose=1)"
            ]
          },
          "metadata": {},
          "execution_count": 53
        }
      ]
    },
    {
      "cell_type": "code",
      "source": [
        "svc_best_score = grid_model_svc.best_score_\n",
        "print(svc_best_score)"
      ],
      "metadata": {
        "colab": {
          "base_uri": "https://localhost:8080/"
        },
        "id": "JaPZ63BzXHDC",
        "outputId": "672587a0-3a9d-45af-cbcb-40b4b95e85f6"
      },
      "execution_count": 54,
      "outputs": [
        {
          "output_type": "stream",
          "name": "stdout",
          "text": [
            "0.9400000000000001\n"
          ]
        }
      ]
    },
    {
      "cell_type": "code",
      "source": [
        "svc_best_params = grid_model_svc.best_params_\n",
        "print(svc_best_params)"
      ],
      "metadata": {
        "colab": {
          "base_uri": "https://localhost:8080/"
        },
        "id": "3WNj1yz2XH6Z",
        "outputId": "0d92068d-0a1f-40c6-be1f-3dfc18c07dde"
      },
      "execution_count": 55,
      "outputs": [
        {
          "output_type": "stream",
          "name": "stdout",
          "text": [
            "{'C': 1000, 'kernel': 'linear', 'random_state': 0}\n"
          ]
        }
      ]
    },
    {
      "cell_type": "markdown",
      "source": [
        "### Decision Tree"
      ],
      "metadata": {
        "id": "Q_OxOdeSX_7V"
      }
    },
    {
      "cell_type": "code",
      "source": [
        "# defining parameter range\n",
        "param_grid = {'splitter': ['best', 'random'],\n",
        "              'random_state': [0, 42, 100],\n",
        "              'criterion': ['gini', 'entropy']} \n",
        "  \n",
        "grid_model_dt = GridSearchCV(DecisionTreeClassifier(), param_grid, refit = True, verbose = 1)\n",
        "  \n",
        "# fitting the model for grid search\n",
        "grid_model_dt.fit(x_train, y_train)"
      ],
      "metadata": {
        "colab": {
          "base_uri": "https://localhost:8080/"
        },
        "id": "OyFB4wWJYDEg",
        "outputId": "29f7fef8-2beb-4de4-aab3-158bd8b9ab63"
      },
      "execution_count": 56,
      "outputs": [
        {
          "output_type": "stream",
          "name": "stdout",
          "text": [
            "Fitting 5 folds for each of 12 candidates, totalling 60 fits\n"
          ]
        },
        {
          "output_type": "execute_result",
          "data": {
            "text/plain": [
              "GridSearchCV(estimator=DecisionTreeClassifier(),\n",
              "             param_grid={'criterion': ['gini', 'entropy'],\n",
              "                         'random_state': [0, 42, 100],\n",
              "                         'splitter': ['best', 'random']},\n",
              "             verbose=1)"
            ]
          },
          "metadata": {},
          "execution_count": 56
        }
      ]
    },
    {
      "cell_type": "code",
      "source": [
        "dt_best_score = grid_model_dt.best_score_\n",
        "print(dt_best_score)"
      ],
      "metadata": {
        "colab": {
          "base_uri": "https://localhost:8080/"
        },
        "id": "zolfqFkSYIs-",
        "outputId": "b0b5e414-7f88-49f0-fa65-43e0fbd4eef3"
      },
      "execution_count": 57,
      "outputs": [
        {
          "output_type": "stream",
          "name": "stdout",
          "text": [
            "0.8300000000000001\n"
          ]
        }
      ]
    },
    {
      "cell_type": "code",
      "source": [
        "dt_best_params = grid_model_dt.best_params_\n",
        "print(dt_best_params)"
      ],
      "metadata": {
        "colab": {
          "base_uri": "https://localhost:8080/"
        },
        "id": "EFB6l8mNYJOC",
        "outputId": "6b4b5b81-fe54-412e-c7e4-0d9ca5876d56"
      },
      "execution_count": 58,
      "outputs": [
        {
          "output_type": "stream",
          "name": "stdout",
          "text": [
            "{'criterion': 'gini', 'random_state': 100, 'splitter': 'random'}\n"
          ]
        }
      ]
    },
    {
      "cell_type": "markdown",
      "source": [
        " # ANN with 3 dense layers"
      ],
      "metadata": {
        "id": "eO8jHhKWgDew"
      }
    },
    {
      "cell_type": "code",
      "source": [
        "n_cols = x_train.shape[1]\n",
        "n_cols"
      ],
      "metadata": {
        "colab": {
          "base_uri": "https://localhost:8080/"
        },
        "id": "ODnEbz65h5FG",
        "outputId": "4d0f5bd3-71bb-4b40-cd08-64c62c39732a"
      },
      "execution_count": 59,
      "outputs": [
        {
          "output_type": "execute_result",
          "data": {
            "text/plain": [
              "4"
            ]
          },
          "metadata": {},
          "execution_count": 59
        }
      ]
    },
    {
      "cell_type": "code",
      "source": [
        "model = Sequential()\n",
        "model.add(Dense(150, activation='relu', input_shape=(n_cols,)))\n",
        "model.add(Dense(150, activation='relu'))\n",
        "model.add(Dense(150, activation='relu'))\n",
        "model.add(Dense(1))"
      ],
      "metadata": {
        "id": "gFlRurkAikF4"
      },
      "execution_count": 60,
      "outputs": []
    },
    {
      "cell_type": "code",
      "source": [
        "model.compile(loss='mse', optimizer='adam', metrics=['mae'])"
      ],
      "metadata": {
        "id": "lZ6Wzgzgim5E"
      },
      "execution_count": 61,
      "outputs": []
    },
    {
      "cell_type": "code",
      "source": [
        "history = model.fit(x_train, y_train, epochs=300, validation_split=.2, verbose=1)"
      ],
      "metadata": {
        "colab": {
          "base_uri": "https://localhost:8080/"
        },
        "id": "U4ty9V1ziuR9",
        "outputId": "e3749115-e8c8-4745-9f04-b7faff01c5ea"
      },
      "execution_count": 62,
      "outputs": [
        {
          "output_type": "stream",
          "name": "stdout",
          "text": [
            "Epoch 1/300\n",
            "10/10 [==============================] - 1s 29ms/step - loss: 10.6131 - mae: 2.9670 - val_loss: 5.4178 - val_mae: 2.0687\n",
            "Epoch 2/300\n",
            "10/10 [==============================] - 0s 5ms/step - loss: 3.1674 - mae: 1.4528 - val_loss: 2.0341 - val_mae: 1.0573\n",
            "Epoch 3/300\n",
            "10/10 [==============================] - 0s 5ms/step - loss: 1.2910 - mae: 0.8651 - val_loss: 0.7853 - val_mae: 0.7276\n",
            "Epoch 4/300\n",
            "10/10 [==============================] - 0s 7ms/step - loss: 0.7697 - mae: 0.7237 - val_loss: 0.5718 - val_mae: 0.6327\n",
            "Epoch 5/300\n",
            "10/10 [==============================] - 0s 6ms/step - loss: 0.5826 - mae: 0.6188 - val_loss: 0.4256 - val_mae: 0.5468\n",
            "Epoch 6/300\n",
            "10/10 [==============================] - 0s 8ms/step - loss: 0.4344 - mae: 0.5267 - val_loss: 0.3438 - val_mae: 0.4979\n",
            "Epoch 7/300\n",
            "10/10 [==============================] - 0s 5ms/step - loss: 0.3500 - mae: 0.4775 - val_loss: 0.2723 - val_mae: 0.4378\n",
            "Epoch 8/300\n",
            "10/10 [==============================] - 0s 5ms/step - loss: 0.2860 - mae: 0.4234 - val_loss: 0.2169 - val_mae: 0.3833\n",
            "Epoch 9/300\n",
            "10/10 [==============================] - 0s 7ms/step - loss: 0.2419 - mae: 0.3887 - val_loss: 0.1771 - val_mae: 0.3506\n",
            "Epoch 10/300\n",
            "10/10 [==============================] - 0s 8ms/step - loss: 0.2035 - mae: 0.3506 - val_loss: 0.1506 - val_mae: 0.3184\n",
            "Epoch 11/300\n",
            "10/10 [==============================] - 0s 6ms/step - loss: 0.1862 - mae: 0.3333 - val_loss: 0.1191 - val_mae: 0.2851\n",
            "Epoch 12/300\n",
            "10/10 [==============================] - 0s 5ms/step - loss: 0.1625 - mae: 0.3140 - val_loss: 0.1122 - val_mae: 0.2751\n",
            "Epoch 13/300\n",
            "10/10 [==============================] - 0s 8ms/step - loss: 0.1568 - mae: 0.3079 - val_loss: 0.0947 - val_mae: 0.2548\n",
            "Epoch 14/300\n",
            "10/10 [==============================] - 0s 9ms/step - loss: 0.1462 - mae: 0.2954 - val_loss: 0.0930 - val_mae: 0.2554\n",
            "Epoch 15/300\n",
            "10/10 [==============================] - 0s 7ms/step - loss: 0.1471 - mae: 0.2941 - val_loss: 0.1006 - val_mae: 0.2649\n",
            "Epoch 16/300\n",
            "10/10 [==============================] - 0s 8ms/step - loss: 0.1404 - mae: 0.2884 - val_loss: 0.0853 - val_mae: 0.2434\n",
            "Epoch 17/300\n",
            "10/10 [==============================] - 0s 7ms/step - loss: 0.1412 - mae: 0.2891 - val_loss: 0.0871 - val_mae: 0.2450\n",
            "Epoch 18/300\n",
            "10/10 [==============================] - 0s 8ms/step - loss: 0.1447 - mae: 0.2869 - val_loss: 0.1167 - val_mae: 0.2848\n",
            "Epoch 19/300\n",
            "10/10 [==============================] - 0s 8ms/step - loss: 0.1412 - mae: 0.2882 - val_loss: 0.0805 - val_mae: 0.2361\n",
            "Epoch 20/300\n",
            "10/10 [==============================] - 0s 6ms/step - loss: 0.1348 - mae: 0.2819 - val_loss: 0.0806 - val_mae: 0.2345\n",
            "Epoch 21/300\n",
            "10/10 [==============================] - 0s 7ms/step - loss: 0.1290 - mae: 0.2664 - val_loss: 0.0845 - val_mae: 0.2389\n",
            "Epoch 22/300\n",
            "10/10 [==============================] - 0s 6ms/step - loss: 0.1292 - mae: 0.2644 - val_loss: 0.0847 - val_mae: 0.2380\n",
            "Epoch 23/300\n",
            "10/10 [==============================] - 0s 6ms/step - loss: 0.1381 - mae: 0.2831 - val_loss: 0.0801 - val_mae: 0.2324\n",
            "Epoch 24/300\n",
            "10/10 [==============================] - 0s 8ms/step - loss: 0.1266 - mae: 0.2672 - val_loss: 0.0780 - val_mae: 0.2252\n",
            "Epoch 25/300\n",
            "10/10 [==============================] - 0s 6ms/step - loss: 0.1278 - mae: 0.2659 - val_loss: 0.0762 - val_mae: 0.2249\n",
            "Epoch 26/300\n",
            "10/10 [==============================] - 0s 9ms/step - loss: 0.1204 - mae: 0.2500 - val_loss: 0.0862 - val_mae: 0.2428\n",
            "Epoch 27/300\n",
            "10/10 [==============================] - 0s 6ms/step - loss: 0.1212 - mae: 0.2552 - val_loss: 0.0800 - val_mae: 0.2317\n",
            "Epoch 28/300\n",
            "10/10 [==============================] - 0s 6ms/step - loss: 0.1203 - mae: 0.2580 - val_loss: 0.0732 - val_mae: 0.2221\n",
            "Epoch 29/300\n",
            "10/10 [==============================] - 0s 6ms/step - loss: 0.1213 - mae: 0.2549 - val_loss: 0.0844 - val_mae: 0.2367\n",
            "Epoch 30/300\n",
            "10/10 [==============================] - 0s 6ms/step - loss: 0.1162 - mae: 0.2485 - val_loss: 0.0769 - val_mae: 0.2258\n",
            "Epoch 31/300\n",
            "10/10 [==============================] - 0s 6ms/step - loss: 0.1208 - mae: 0.2558 - val_loss: 0.0758 - val_mae: 0.2262\n",
            "Epoch 32/300\n",
            "10/10 [==============================] - 0s 8ms/step - loss: 0.1209 - mae: 0.2544 - val_loss: 0.0761 - val_mae: 0.2231\n",
            "Epoch 33/300\n",
            "10/10 [==============================] - 0s 6ms/step - loss: 0.1163 - mae: 0.2494 - val_loss: 0.0805 - val_mae: 0.2288\n",
            "Epoch 34/300\n",
            "10/10 [==============================] - 0s 6ms/step - loss: 0.1128 - mae: 0.2404 - val_loss: 0.0783 - val_mae: 0.2209\n",
            "Epoch 35/300\n",
            "10/10 [==============================] - 0s 9ms/step - loss: 0.1207 - mae: 0.2552 - val_loss: 0.0761 - val_mae: 0.2227\n",
            "Epoch 36/300\n",
            "10/10 [==============================] - 0s 7ms/step - loss: 0.1155 - mae: 0.2466 - val_loss: 0.0745 - val_mae: 0.2207\n",
            "Epoch 37/300\n",
            "10/10 [==============================] - 0s 7ms/step - loss: 0.1147 - mae: 0.2450 - val_loss: 0.0880 - val_mae: 0.2338\n",
            "Epoch 38/300\n",
            "10/10 [==============================] - 0s 6ms/step - loss: 0.1197 - mae: 0.2434 - val_loss: 0.0790 - val_mae: 0.2264\n",
            "Epoch 39/300\n",
            "10/10 [==============================] - 0s 8ms/step - loss: 0.1164 - mae: 0.2481 - val_loss: 0.0731 - val_mae: 0.2214\n",
            "Epoch 40/300\n",
            "10/10 [==============================] - 0s 6ms/step - loss: 0.1103 - mae: 0.2378 - val_loss: 0.0767 - val_mae: 0.2210\n",
            "Epoch 41/300\n",
            "10/10 [==============================] - 0s 7ms/step - loss: 0.1126 - mae: 0.2415 - val_loss: 0.0799 - val_mae: 0.2277\n",
            "Epoch 42/300\n",
            "10/10 [==============================] - 0s 8ms/step - loss: 0.1230 - mae: 0.2544 - val_loss: 0.0762 - val_mae: 0.2271\n",
            "Epoch 43/300\n",
            "10/10 [==============================] - 0s 5ms/step - loss: 0.1166 - mae: 0.2464 - val_loss: 0.0756 - val_mae: 0.2205\n",
            "Epoch 44/300\n",
            "10/10 [==============================] - 0s 5ms/step - loss: 0.1154 - mae: 0.2421 - val_loss: 0.0861 - val_mae: 0.2352\n",
            "Epoch 45/300\n",
            "10/10 [==============================] - 0s 5ms/step - loss: 0.1181 - mae: 0.2445 - val_loss: 0.1051 - val_mae: 0.2661\n",
            "Epoch 46/300\n",
            "10/10 [==============================] - 0s 5ms/step - loss: 0.1136 - mae: 0.2440 - val_loss: 0.0733 - val_mae: 0.2183\n",
            "Epoch 47/300\n",
            "10/10 [==============================] - 0s 5ms/step - loss: 0.1098 - mae: 0.2376 - val_loss: 0.0743 - val_mae: 0.2193\n",
            "Epoch 48/300\n",
            "10/10 [==============================] - 0s 6ms/step - loss: 0.1188 - mae: 0.2463 - val_loss: 0.0694 - val_mae: 0.2117\n",
            "Epoch 49/300\n",
            "10/10 [==============================] - 0s 5ms/step - loss: 0.1082 - mae: 0.2334 - val_loss: 0.0734 - val_mae: 0.2203\n",
            "Epoch 50/300\n",
            "10/10 [==============================] - 0s 6ms/step - loss: 0.1100 - mae: 0.2361 - val_loss: 0.0932 - val_mae: 0.2456\n",
            "Epoch 51/300\n",
            "10/10 [==============================] - 0s 7ms/step - loss: 0.1199 - mae: 0.2517 - val_loss: 0.1505 - val_mae: 0.3282\n",
            "Epoch 52/300\n",
            "10/10 [==============================] - 0s 5ms/step - loss: 0.1412 - mae: 0.2894 - val_loss: 0.0978 - val_mae: 0.2570\n",
            "Epoch 53/300\n",
            "10/10 [==============================] - 0s 7ms/step - loss: 0.1170 - mae: 0.2449 - val_loss: 0.0773 - val_mae: 0.2193\n",
            "Epoch 54/300\n",
            "10/10 [==============================] - 0s 5ms/step - loss: 0.1120 - mae: 0.2351 - val_loss: 0.0758 - val_mae: 0.2203\n",
            "Epoch 55/300\n",
            "10/10 [==============================] - 0s 7ms/step - loss: 0.1075 - mae: 0.2377 - val_loss: 0.0754 - val_mae: 0.2222\n",
            "Epoch 56/300\n",
            "10/10 [==============================] - 0s 5ms/step - loss: 0.1059 - mae: 0.2292 - val_loss: 0.0739 - val_mae: 0.2149\n",
            "Epoch 57/300\n",
            "10/10 [==============================] - 0s 5ms/step - loss: 0.1080 - mae: 0.2317 - val_loss: 0.0699 - val_mae: 0.2093\n",
            "Epoch 58/300\n",
            "10/10 [==============================] - 0s 7ms/step - loss: 0.1063 - mae: 0.2252 - val_loss: 0.0740 - val_mae: 0.2186\n",
            "Epoch 59/300\n",
            "10/10 [==============================] - 0s 5ms/step - loss: 0.1086 - mae: 0.2315 - val_loss: 0.0813 - val_mae: 0.2204\n",
            "Epoch 60/300\n",
            "10/10 [==============================] - 0s 5ms/step - loss: 0.1107 - mae: 0.2310 - val_loss: 0.0740 - val_mae: 0.2205\n",
            "Epoch 61/300\n",
            "10/10 [==============================] - 0s 5ms/step - loss: 0.1088 - mae: 0.2257 - val_loss: 0.0698 - val_mae: 0.2107\n",
            "Epoch 62/300\n",
            "10/10 [==============================] - 0s 5ms/step - loss: 0.1101 - mae: 0.2308 - val_loss: 0.0901 - val_mae: 0.2512\n",
            "Epoch 63/300\n",
            "10/10 [==============================] - 0s 7ms/step - loss: 0.1053 - mae: 0.2278 - val_loss: 0.0747 - val_mae: 0.2139\n",
            "Epoch 64/300\n",
            "10/10 [==============================] - 0s 5ms/step - loss: 0.1028 - mae: 0.2228 - val_loss: 0.0747 - val_mae: 0.2141\n",
            "Epoch 65/300\n",
            "10/10 [==============================] - 0s 5ms/step - loss: 0.1024 - mae: 0.2262 - val_loss: 0.0727 - val_mae: 0.2172\n",
            "Epoch 66/300\n",
            "10/10 [==============================] - 0s 7ms/step - loss: 0.0987 - mae: 0.2182 - val_loss: 0.1121 - val_mae: 0.2791\n",
            "Epoch 67/300\n",
            "10/10 [==============================] - 0s 5ms/step - loss: 0.1109 - mae: 0.2401 - val_loss: 0.0891 - val_mae: 0.2442\n",
            "Epoch 68/300\n",
            "10/10 [==============================] - 0s 6ms/step - loss: 0.1083 - mae: 0.2316 - val_loss: 0.0804 - val_mae: 0.2220\n",
            "Epoch 69/300\n",
            "10/10 [==============================] - 0s 7ms/step - loss: 0.1064 - mae: 0.2301 - val_loss: 0.0750 - val_mae: 0.2241\n",
            "Epoch 70/300\n",
            "10/10 [==============================] - 0s 6ms/step - loss: 0.1026 - mae: 0.2244 - val_loss: 0.0797 - val_mae: 0.2310\n",
            "Epoch 71/300\n",
            "10/10 [==============================] - 0s 6ms/step - loss: 0.1082 - mae: 0.2334 - val_loss: 0.0795 - val_mae: 0.2222\n",
            "Epoch 72/300\n",
            "10/10 [==============================] - 0s 5ms/step - loss: 0.1048 - mae: 0.2329 - val_loss: 0.0786 - val_mae: 0.2268\n",
            "Epoch 73/300\n",
            "10/10 [==============================] - 0s 6ms/step - loss: 0.1129 - mae: 0.2427 - val_loss: 0.0775 - val_mae: 0.2254\n",
            "Epoch 74/300\n",
            "10/10 [==============================] - 0s 7ms/step - loss: 0.1035 - mae: 0.2229 - val_loss: 0.0706 - val_mae: 0.2105\n",
            "Epoch 75/300\n",
            "10/10 [==============================] - 0s 7ms/step - loss: 0.1043 - mae: 0.2214 - val_loss: 0.0742 - val_mae: 0.2136\n",
            "Epoch 76/300\n",
            "10/10 [==============================] - 0s 8ms/step - loss: 0.1039 - mae: 0.2272 - val_loss: 0.0744 - val_mae: 0.2211\n",
            "Epoch 77/300\n",
            "10/10 [==============================] - 0s 10ms/step - loss: 0.1050 - mae: 0.2260 - val_loss: 0.0686 - val_mae: 0.2069\n",
            "Epoch 78/300\n",
            "10/10 [==============================] - 0s 6ms/step - loss: 0.1055 - mae: 0.2359 - val_loss: 0.0779 - val_mae: 0.2265\n",
            "Epoch 79/300\n",
            "10/10 [==============================] - 0s 9ms/step - loss: 0.1097 - mae: 0.2311 - val_loss: 0.0723 - val_mae: 0.2153\n",
            "Epoch 80/300\n",
            "10/10 [==============================] - 0s 7ms/step - loss: 0.1101 - mae: 0.2354 - val_loss: 0.0746 - val_mae: 0.2177\n",
            "Epoch 81/300\n",
            "10/10 [==============================] - 0s 8ms/step - loss: 0.1023 - mae: 0.2269 - val_loss: 0.0826 - val_mae: 0.2380\n",
            "Epoch 82/300\n",
            "10/10 [==============================] - 0s 6ms/step - loss: 0.1033 - mae: 0.2228 - val_loss: 0.0722 - val_mae: 0.2135\n",
            "Epoch 83/300\n",
            "10/10 [==============================] - 0s 9ms/step - loss: 0.0978 - mae: 0.2093 - val_loss: 0.0737 - val_mae: 0.2171\n",
            "Epoch 84/300\n",
            "10/10 [==============================] - 0s 7ms/step - loss: 0.0969 - mae: 0.2103 - val_loss: 0.0733 - val_mae: 0.2168\n",
            "Epoch 85/300\n",
            "10/10 [==============================] - 0s 6ms/step - loss: 0.0986 - mae: 0.2151 - val_loss: 0.0938 - val_mae: 0.2380\n",
            "Epoch 86/300\n",
            "10/10 [==============================] - 0s 8ms/step - loss: 0.1027 - mae: 0.2167 - val_loss: 0.0800 - val_mae: 0.2310\n",
            "Epoch 87/300\n",
            "10/10 [==============================] - 0s 6ms/step - loss: 0.1005 - mae: 0.2193 - val_loss: 0.0722 - val_mae: 0.2169\n",
            "Epoch 88/300\n",
            "10/10 [==============================] - 0s 9ms/step - loss: 0.1028 - mae: 0.2250 - val_loss: 0.0717 - val_mae: 0.2128\n",
            "Epoch 89/300\n",
            "10/10 [==============================] - 0s 8ms/step - loss: 0.0944 - mae: 0.2090 - val_loss: 0.0822 - val_mae: 0.2200\n",
            "Epoch 90/300\n",
            "10/10 [==============================] - 0s 6ms/step - loss: 0.0988 - mae: 0.2163 - val_loss: 0.0703 - val_mae: 0.2053\n",
            "Epoch 91/300\n",
            "10/10 [==============================] - 0s 6ms/step - loss: 0.0998 - mae: 0.2186 - val_loss: 0.0945 - val_mae: 0.2359\n",
            "Epoch 92/300\n",
            "10/10 [==============================] - 0s 8ms/step - loss: 0.1027 - mae: 0.2243 - val_loss: 0.0709 - val_mae: 0.2083\n",
            "Epoch 93/300\n",
            "10/10 [==============================] - 0s 7ms/step - loss: 0.0956 - mae: 0.2089 - val_loss: 0.0707 - val_mae: 0.2067\n",
            "Epoch 94/300\n",
            "10/10 [==============================] - 0s 7ms/step - loss: 0.0971 - mae: 0.2138 - val_loss: 0.0805 - val_mae: 0.2317\n",
            "Epoch 95/300\n",
            "10/10 [==============================] - 0s 6ms/step - loss: 0.1082 - mae: 0.2298 - val_loss: 0.0679 - val_mae: 0.2009\n",
            "Epoch 96/300\n",
            "10/10 [==============================] - 0s 7ms/step - loss: 0.1103 - mae: 0.2425 - val_loss: 0.0928 - val_mae: 0.2535\n",
            "Epoch 97/300\n",
            "10/10 [==============================] - 0s 6ms/step - loss: 0.1163 - mae: 0.2401 - val_loss: 0.0727 - val_mae: 0.2140\n",
            "Epoch 98/300\n",
            "10/10 [==============================] - 0s 7ms/step - loss: 0.0975 - mae: 0.2213 - val_loss: 0.0793 - val_mae: 0.2190\n",
            "Epoch 99/300\n",
            "10/10 [==============================] - 0s 6ms/step - loss: 0.1090 - mae: 0.2307 - val_loss: 0.0755 - val_mae: 0.2060\n",
            "Epoch 100/300\n",
            "10/10 [==============================] - 0s 8ms/step - loss: 0.1109 - mae: 0.2481 - val_loss: 0.0915 - val_mae: 0.2476\n",
            "Epoch 101/300\n",
            "10/10 [==============================] - 0s 8ms/step - loss: 0.1027 - mae: 0.2300 - val_loss: 0.0944 - val_mae: 0.2494\n",
            "Epoch 102/300\n",
            "10/10 [==============================] - 0s 7ms/step - loss: 0.0969 - mae: 0.2144 - val_loss: 0.0751 - val_mae: 0.2125\n",
            "Epoch 103/300\n",
            "10/10 [==============================] - 0s 6ms/step - loss: 0.0975 - mae: 0.2170 - val_loss: 0.0875 - val_mae: 0.2283\n",
            "Epoch 104/300\n",
            "10/10 [==============================] - 0s 7ms/step - loss: 0.1056 - mae: 0.2252 - val_loss: 0.0965 - val_mae: 0.2586\n",
            "Epoch 105/300\n",
            "10/10 [==============================] - 0s 6ms/step - loss: 0.1040 - mae: 0.2216 - val_loss: 0.0867 - val_mae: 0.2288\n",
            "Epoch 106/300\n",
            "10/10 [==============================] - 0s 9ms/step - loss: 0.0933 - mae: 0.2070 - val_loss: 0.0821 - val_mae: 0.2302\n",
            "Epoch 107/300\n",
            "10/10 [==============================] - 0s 6ms/step - loss: 0.0981 - mae: 0.2119 - val_loss: 0.0734 - val_mae: 0.2150\n",
            "Epoch 108/300\n",
            "10/10 [==============================] - 0s 6ms/step - loss: 0.0958 - mae: 0.2089 - val_loss: 0.0784 - val_mae: 0.2128\n",
            "Epoch 109/300\n",
            "10/10 [==============================] - 0s 7ms/step - loss: 0.0927 - mae: 0.2047 - val_loss: 0.0717 - val_mae: 0.2048\n",
            "Epoch 110/300\n",
            "10/10 [==============================] - 0s 6ms/step - loss: 0.0969 - mae: 0.2153 - val_loss: 0.0841 - val_mae: 0.2428\n",
            "Epoch 111/300\n",
            "10/10 [==============================] - 0s 6ms/step - loss: 0.0976 - mae: 0.2071 - val_loss: 0.0751 - val_mae: 0.2146\n",
            "Epoch 112/300\n",
            "10/10 [==============================] - 0s 6ms/step - loss: 0.0910 - mae: 0.2021 - val_loss: 0.0751 - val_mae: 0.2220\n",
            "Epoch 113/300\n",
            "10/10 [==============================] - 0s 5ms/step - loss: 0.0964 - mae: 0.2175 - val_loss: 0.0798 - val_mae: 0.2316\n",
            "Epoch 114/300\n",
            "10/10 [==============================] - 0s 7ms/step - loss: 0.1186 - mae: 0.2442 - val_loss: 0.0869 - val_mae: 0.2249\n",
            "Epoch 115/300\n",
            "10/10 [==============================] - 0s 5ms/step - loss: 0.0971 - mae: 0.2203 - val_loss: 0.0733 - val_mae: 0.2085\n",
            "Epoch 116/300\n",
            "10/10 [==============================] - 0s 7ms/step - loss: 0.0943 - mae: 0.2035 - val_loss: 0.0783 - val_mae: 0.2126\n",
            "Epoch 117/300\n",
            "10/10 [==============================] - 0s 5ms/step - loss: 0.0928 - mae: 0.2115 - val_loss: 0.0800 - val_mae: 0.2257\n",
            "Epoch 118/300\n",
            "10/10 [==============================] - 0s 5ms/step - loss: 0.0983 - mae: 0.2216 - val_loss: 0.0831 - val_mae: 0.2214\n",
            "Epoch 119/300\n",
            "10/10 [==============================] - 0s 7ms/step - loss: 0.1009 - mae: 0.2275 - val_loss: 0.0830 - val_mae: 0.2368\n",
            "Epoch 120/300\n",
            "10/10 [==============================] - 0s 6ms/step - loss: 0.1056 - mae: 0.2262 - val_loss: 0.0852 - val_mae: 0.2366\n",
            "Epoch 121/300\n",
            "10/10 [==============================] - 0s 5ms/step - loss: 0.1061 - mae: 0.2212 - val_loss: 0.0830 - val_mae: 0.2311\n",
            "Epoch 122/300\n",
            "10/10 [==============================] - 0s 5ms/step - loss: 0.0958 - mae: 0.2169 - val_loss: 0.0748 - val_mae: 0.2181\n",
            "Epoch 123/300\n",
            "10/10 [==============================] - 0s 5ms/step - loss: 0.0968 - mae: 0.2157 - val_loss: 0.0811 - val_mae: 0.2284\n",
            "Epoch 124/300\n",
            "10/10 [==============================] - 0s 5ms/step - loss: 0.0938 - mae: 0.2127 - val_loss: 0.0752 - val_mae: 0.2133\n",
            "Epoch 125/300\n",
            "10/10 [==============================] - 0s 6ms/step - loss: 0.0882 - mae: 0.1983 - val_loss: 0.0708 - val_mae: 0.2104\n",
            "Epoch 126/300\n",
            "10/10 [==============================] - 0s 5ms/step - loss: 0.0939 - mae: 0.2109 - val_loss: 0.0777 - val_mae: 0.2224\n",
            "Epoch 127/300\n",
            "10/10 [==============================] - 0s 5ms/step - loss: 0.0984 - mae: 0.2136 - val_loss: 0.0948 - val_mae: 0.2461\n",
            "Epoch 128/300\n",
            "10/10 [==============================] - 0s 5ms/step - loss: 0.0965 - mae: 0.2190 - val_loss: 0.1108 - val_mae: 0.2658\n",
            "Epoch 129/300\n",
            "10/10 [==============================] - 0s 5ms/step - loss: 0.0984 - mae: 0.2315 - val_loss: 0.0992 - val_mae: 0.2689\n",
            "Epoch 130/300\n",
            "10/10 [==============================] - 0s 8ms/step - loss: 0.0970 - mae: 0.2091 - val_loss: 0.1259 - val_mae: 0.2823\n",
            "Epoch 131/300\n",
            "10/10 [==============================] - 0s 6ms/step - loss: 0.1026 - mae: 0.2343 - val_loss: 0.0960 - val_mae: 0.2537\n",
            "Epoch 132/300\n",
            "10/10 [==============================] - 0s 7ms/step - loss: 0.1008 - mae: 0.2220 - val_loss: 0.1063 - val_mae: 0.2477\n",
            "Epoch 133/300\n",
            "10/10 [==============================] - 0s 8ms/step - loss: 0.1037 - mae: 0.2223 - val_loss: 0.0998 - val_mae: 0.2666\n",
            "Epoch 134/300\n",
            "10/10 [==============================] - 0s 7ms/step - loss: 0.0935 - mae: 0.2198 - val_loss: 0.1068 - val_mae: 0.2632\n",
            "Epoch 135/300\n",
            "10/10 [==============================] - 0s 5ms/step - loss: 0.0937 - mae: 0.2084 - val_loss: 0.0813 - val_mae: 0.2195\n",
            "Epoch 136/300\n",
            "10/10 [==============================] - 0s 5ms/step - loss: 0.0881 - mae: 0.2078 - val_loss: 0.0833 - val_mae: 0.2384\n",
            "Epoch 137/300\n",
            "10/10 [==============================] - 0s 5ms/step - loss: 0.0886 - mae: 0.2029 - val_loss: 0.0871 - val_mae: 0.2316\n",
            "Epoch 138/300\n",
            "10/10 [==============================] - 0s 6ms/step - loss: 0.0881 - mae: 0.1991 - val_loss: 0.0847 - val_mae: 0.2249\n",
            "Epoch 139/300\n",
            "10/10 [==============================] - 0s 5ms/step - loss: 0.0908 - mae: 0.2068 - val_loss: 0.0761 - val_mae: 0.2102\n",
            "Epoch 140/300\n",
            "10/10 [==============================] - 0s 8ms/step - loss: 0.0952 - mae: 0.2156 - val_loss: 0.0833 - val_mae: 0.2324\n",
            "Epoch 141/300\n",
            "10/10 [==============================] - 0s 5ms/step - loss: 0.0990 - mae: 0.2273 - val_loss: 0.0906 - val_mae: 0.2482\n",
            "Epoch 142/300\n",
            "10/10 [==============================] - 0s 7ms/step - loss: 0.1099 - mae: 0.2434 - val_loss: 0.0811 - val_mae: 0.2161\n",
            "Epoch 143/300\n",
            "10/10 [==============================] - 0s 7ms/step - loss: 0.0890 - mae: 0.2075 - val_loss: 0.0783 - val_mae: 0.2341\n",
            "Epoch 144/300\n",
            "10/10 [==============================] - 0s 8ms/step - loss: 0.0986 - mae: 0.2190 - val_loss: 0.0932 - val_mae: 0.2523\n",
            "Epoch 145/300\n",
            "10/10 [==============================] - 0s 9ms/step - loss: 0.0952 - mae: 0.2201 - val_loss: 0.1198 - val_mae: 0.2892\n",
            "Epoch 146/300\n",
            "10/10 [==============================] - 0s 6ms/step - loss: 0.1035 - mae: 0.2356 - val_loss: 0.1222 - val_mae: 0.2874\n",
            "Epoch 147/300\n",
            "10/10 [==============================] - 0s 8ms/step - loss: 0.1005 - mae: 0.2306 - val_loss: 0.1116 - val_mae: 0.2626\n",
            "Epoch 148/300\n",
            "10/10 [==============================] - 0s 9ms/step - loss: 0.0971 - mae: 0.2169 - val_loss: 0.0942 - val_mae: 0.2445\n",
            "Epoch 149/300\n",
            "10/10 [==============================] - 0s 6ms/step - loss: 0.0913 - mae: 0.2079 - val_loss: 0.0810 - val_mae: 0.2315\n",
            "Epoch 150/300\n",
            "10/10 [==============================] - 0s 8ms/step - loss: 0.0889 - mae: 0.2058 - val_loss: 0.0782 - val_mae: 0.2123\n",
            "Epoch 151/300\n",
            "10/10 [==============================] - 0s 6ms/step - loss: 0.0909 - mae: 0.2085 - val_loss: 0.0902 - val_mae: 0.2449\n",
            "Epoch 152/300\n",
            "10/10 [==============================] - 0s 6ms/step - loss: 0.0932 - mae: 0.2091 - val_loss: 0.0804 - val_mae: 0.2248\n",
            "Epoch 153/300\n",
            "10/10 [==============================] - 0s 7ms/step - loss: 0.1058 - mae: 0.2227 - val_loss: 0.0883 - val_mae: 0.2391\n",
            "Epoch 154/300\n",
            "10/10 [==============================] - 0s 7ms/step - loss: 0.0928 - mae: 0.2158 - val_loss: 0.0721 - val_mae: 0.1976\n",
            "Epoch 155/300\n",
            "10/10 [==============================] - 0s 7ms/step - loss: 0.0869 - mae: 0.1954 - val_loss: 0.0924 - val_mae: 0.2276\n",
            "Epoch 156/300\n",
            "10/10 [==============================] - 0s 8ms/step - loss: 0.0846 - mae: 0.1937 - val_loss: 0.0755 - val_mae: 0.2159\n",
            "Epoch 157/300\n",
            "10/10 [==============================] - 0s 6ms/step - loss: 0.0861 - mae: 0.1941 - val_loss: 0.0831 - val_mae: 0.2210\n",
            "Epoch 158/300\n",
            "10/10 [==============================] - 0s 7ms/step - loss: 0.0878 - mae: 0.1956 - val_loss: 0.0775 - val_mae: 0.2193\n",
            "Epoch 159/300\n",
            "10/10 [==============================] - 0s 6ms/step - loss: 0.0864 - mae: 0.2022 - val_loss: 0.0851 - val_mae: 0.2265\n",
            "Epoch 160/300\n",
            "10/10 [==============================] - 0s 5ms/step - loss: 0.0941 - mae: 0.2105 - val_loss: 0.0726 - val_mae: 0.2041\n",
            "Epoch 161/300\n",
            "10/10 [==============================] - 0s 5ms/step - loss: 0.0873 - mae: 0.2066 - val_loss: 0.0880 - val_mae: 0.2369\n",
            "Epoch 162/300\n",
            "10/10 [==============================] - 0s 5ms/step - loss: 0.0809 - mae: 0.1897 - val_loss: 0.0770 - val_mae: 0.2116\n",
            "Epoch 163/300\n",
            "10/10 [==============================] - 0s 5ms/step - loss: 0.0866 - mae: 0.1964 - val_loss: 0.0760 - val_mae: 0.2081\n",
            "Epoch 164/300\n",
            "10/10 [==============================] - 0s 5ms/step - loss: 0.0846 - mae: 0.1879 - val_loss: 0.0803 - val_mae: 0.2220\n",
            "Epoch 165/300\n",
            "10/10 [==============================] - 0s 7ms/step - loss: 0.0816 - mae: 0.1872 - val_loss: 0.0818 - val_mae: 0.2180\n",
            "Epoch 166/300\n",
            "10/10 [==============================] - 0s 5ms/step - loss: 0.0812 - mae: 0.1913 - val_loss: 0.0723 - val_mae: 0.2125\n",
            "Epoch 167/300\n",
            "10/10 [==============================] - 0s 5ms/step - loss: 0.0833 - mae: 0.1927 - val_loss: 0.0880 - val_mae: 0.2393\n",
            "Epoch 168/300\n",
            "10/10 [==============================] - 0s 7ms/step - loss: 0.0915 - mae: 0.2146 - val_loss: 0.0795 - val_mae: 0.2148\n",
            "Epoch 169/300\n",
            "10/10 [==============================] - 0s 8ms/step - loss: 0.0960 - mae: 0.2202 - val_loss: 0.0922 - val_mae: 0.2394\n",
            "Epoch 170/300\n",
            "10/10 [==============================] - 0s 7ms/step - loss: 0.0859 - mae: 0.1948 - val_loss: 0.0860 - val_mae: 0.2236\n",
            "Epoch 171/300\n",
            "10/10 [==============================] - 0s 6ms/step - loss: 0.0817 - mae: 0.1882 - val_loss: 0.0810 - val_mae: 0.2130\n",
            "Epoch 172/300\n",
            "10/10 [==============================] - 0s 6ms/step - loss: 0.0845 - mae: 0.1972 - val_loss: 0.0775 - val_mae: 0.2162\n",
            "Epoch 173/300\n",
            "10/10 [==============================] - 0s 8ms/step - loss: 0.0941 - mae: 0.2177 - val_loss: 0.0774 - val_mae: 0.2121\n",
            "Epoch 174/300\n",
            "10/10 [==============================] - 0s 6ms/step - loss: 0.0908 - mae: 0.2198 - val_loss: 0.0836 - val_mae: 0.2309\n",
            "Epoch 175/300\n",
            "10/10 [==============================] - 0s 7ms/step - loss: 0.0846 - mae: 0.1954 - val_loss: 0.0861 - val_mae: 0.2193\n",
            "Epoch 176/300\n",
            "10/10 [==============================] - 0s 7ms/step - loss: 0.0829 - mae: 0.1846 - val_loss: 0.0859 - val_mae: 0.2173\n",
            "Epoch 177/300\n",
            "10/10 [==============================] - 0s 7ms/step - loss: 0.0789 - mae: 0.1910 - val_loss: 0.0932 - val_mae: 0.2390\n",
            "Epoch 178/300\n",
            "10/10 [==============================] - 0s 9ms/step - loss: 0.0864 - mae: 0.2029 - val_loss: 0.0798 - val_mae: 0.2102\n",
            "Epoch 179/300\n",
            "10/10 [==============================] - 0s 6ms/step - loss: 0.0879 - mae: 0.2035 - val_loss: 0.1374 - val_mae: 0.3193\n",
            "Epoch 180/300\n",
            "10/10 [==============================] - 0s 8ms/step - loss: 0.1249 - mae: 0.2710 - val_loss: 0.1938 - val_mae: 0.3836\n",
            "Epoch 181/300\n",
            "10/10 [==============================] - 0s 9ms/step - loss: 0.1271 - mae: 0.2776 - val_loss: 0.1292 - val_mae: 0.2926\n",
            "Epoch 182/300\n",
            "10/10 [==============================] - 0s 6ms/step - loss: 0.0909 - mae: 0.2182 - val_loss: 0.1388 - val_mae: 0.2991\n",
            "Epoch 183/300\n",
            "10/10 [==============================] - 0s 8ms/step - loss: 0.0998 - mae: 0.2224 - val_loss: 0.0972 - val_mae: 0.2432\n",
            "Epoch 184/300\n",
            "10/10 [==============================] - 0s 7ms/step - loss: 0.0899 - mae: 0.1958 - val_loss: 0.0897 - val_mae: 0.2219\n",
            "Epoch 185/300\n",
            "10/10 [==============================] - 0s 6ms/step - loss: 0.0901 - mae: 0.2062 - val_loss: 0.0844 - val_mae: 0.2218\n",
            "Epoch 186/300\n",
            "10/10 [==============================] - 0s 7ms/step - loss: 0.0858 - mae: 0.1999 - val_loss: 0.0742 - val_mae: 0.2036\n",
            "Epoch 187/300\n",
            "10/10 [==============================] - 0s 6ms/step - loss: 0.0825 - mae: 0.1964 - val_loss: 0.0872 - val_mae: 0.2305\n",
            "Epoch 188/300\n",
            "10/10 [==============================] - 0s 8ms/step - loss: 0.0869 - mae: 0.1966 - val_loss: 0.0849 - val_mae: 0.2162\n",
            "Epoch 189/300\n",
            "10/10 [==============================] - 0s 8ms/step - loss: 0.0902 - mae: 0.2047 - val_loss: 0.1012 - val_mae: 0.2581\n",
            "Epoch 190/300\n",
            "10/10 [==============================] - 0s 7ms/step - loss: 0.1038 - mae: 0.2295 - val_loss: 0.0781 - val_mae: 0.2131\n",
            "Epoch 191/300\n",
            "10/10 [==============================] - 0s 7ms/step - loss: 0.0886 - mae: 0.2024 - val_loss: 0.0835 - val_mae: 0.2164\n",
            "Epoch 192/300\n",
            "10/10 [==============================] - 0s 7ms/step - loss: 0.0838 - mae: 0.1934 - val_loss: 0.0925 - val_mae: 0.2277\n",
            "Epoch 193/300\n",
            "10/10 [==============================] - 0s 7ms/step - loss: 0.0836 - mae: 0.2024 - val_loss: 0.0764 - val_mae: 0.2057\n",
            "Epoch 194/300\n",
            "10/10 [==============================] - 0s 8ms/step - loss: 0.0768 - mae: 0.1821 - val_loss: 0.0821 - val_mae: 0.2348\n",
            "Epoch 195/300\n",
            "10/10 [==============================] - 0s 8ms/step - loss: 0.0813 - mae: 0.2000 - val_loss: 0.0829 - val_mae: 0.2289\n",
            "Epoch 196/300\n",
            "10/10 [==============================] - 0s 5ms/step - loss: 0.0835 - mae: 0.1928 - val_loss: 0.0811 - val_mae: 0.2070\n",
            "Epoch 197/300\n",
            "10/10 [==============================] - 0s 5ms/step - loss: 0.0770 - mae: 0.1854 - val_loss: 0.0809 - val_mae: 0.2093\n",
            "Epoch 198/300\n",
            "10/10 [==============================] - 0s 6ms/step - loss: 0.0819 - mae: 0.1985 - val_loss: 0.0883 - val_mae: 0.2259\n",
            "Epoch 199/300\n",
            "10/10 [==============================] - 0s 6ms/step - loss: 0.0815 - mae: 0.1958 - val_loss: 0.0823 - val_mae: 0.2157\n",
            "Epoch 200/300\n",
            "10/10 [==============================] - 0s 5ms/step - loss: 0.0777 - mae: 0.1862 - val_loss: 0.0841 - val_mae: 0.2117\n",
            "Epoch 201/300\n",
            "10/10 [==============================] - 0s 6ms/step - loss: 0.0786 - mae: 0.1798 - val_loss: 0.0806 - val_mae: 0.2168\n",
            "Epoch 202/300\n",
            "10/10 [==============================] - 0s 6ms/step - loss: 0.0782 - mae: 0.1875 - val_loss: 0.0891 - val_mae: 0.2259\n",
            "Epoch 203/300\n",
            "10/10 [==============================] - 0s 5ms/step - loss: 0.0856 - mae: 0.2055 - val_loss: 0.0743 - val_mae: 0.2048\n",
            "Epoch 204/300\n",
            "10/10 [==============================] - 0s 6ms/step - loss: 0.0857 - mae: 0.1977 - val_loss: 0.0855 - val_mae: 0.2279\n",
            "Epoch 205/300\n",
            "10/10 [==============================] - 0s 6ms/step - loss: 0.0889 - mae: 0.2086 - val_loss: 0.0959 - val_mae: 0.2586\n",
            "Epoch 206/300\n",
            "10/10 [==============================] - 0s 6ms/step - loss: 0.0821 - mae: 0.1997 - val_loss: 0.0750 - val_mae: 0.2006\n",
            "Epoch 207/300\n",
            "10/10 [==============================] - 0s 6ms/step - loss: 0.0808 - mae: 0.1845 - val_loss: 0.0852 - val_mae: 0.2191\n",
            "Epoch 208/300\n",
            "10/10 [==============================] - 0s 6ms/step - loss: 0.0828 - mae: 0.1912 - val_loss: 0.0755 - val_mae: 0.2085\n",
            "Epoch 209/300\n",
            "10/10 [==============================] - 0s 6ms/step - loss: 0.0832 - mae: 0.1904 - val_loss: 0.0914 - val_mae: 0.2221\n",
            "Epoch 210/300\n",
            "10/10 [==============================] - 0s 8ms/step - loss: 0.0782 - mae: 0.1852 - val_loss: 0.0862 - val_mae: 0.2209\n",
            "Epoch 211/300\n",
            "10/10 [==============================] - 0s 7ms/step - loss: 0.0722 - mae: 0.1741 - val_loss: 0.0793 - val_mae: 0.2106\n",
            "Epoch 212/300\n",
            "10/10 [==============================] - 0s 8ms/step - loss: 0.0785 - mae: 0.1884 - val_loss: 0.0914 - val_mae: 0.2298\n",
            "Epoch 213/300\n",
            "10/10 [==============================] - 0s 7ms/step - loss: 0.0794 - mae: 0.1912 - val_loss: 0.0829 - val_mae: 0.2113\n",
            "Epoch 214/300\n",
            "10/10 [==============================] - 0s 7ms/step - loss: 0.0717 - mae: 0.1706 - val_loss: 0.0796 - val_mae: 0.2108\n",
            "Epoch 215/300\n",
            "10/10 [==============================] - 0s 6ms/step - loss: 0.0742 - mae: 0.1741 - val_loss: 0.0780 - val_mae: 0.2057\n",
            "Epoch 216/300\n",
            "10/10 [==============================] - 0s 6ms/step - loss: 0.0724 - mae: 0.1739 - val_loss: 0.0893 - val_mae: 0.2203\n",
            "Epoch 217/300\n",
            "10/10 [==============================] - 0s 6ms/step - loss: 0.0743 - mae: 0.1718 - val_loss: 0.0782 - val_mae: 0.2132\n",
            "Epoch 218/300\n",
            "10/10 [==============================] - 0s 8ms/step - loss: 0.0763 - mae: 0.1803 - val_loss: 0.0799 - val_mae: 0.2109\n",
            "Epoch 219/300\n",
            "10/10 [==============================] - 0s 8ms/step - loss: 0.0717 - mae: 0.1689 - val_loss: 0.0781 - val_mae: 0.2067\n",
            "Epoch 220/300\n",
            "10/10 [==============================] - 0s 9ms/step - loss: 0.0744 - mae: 0.1827 - val_loss: 0.0781 - val_mae: 0.2022\n",
            "Epoch 221/300\n",
            "10/10 [==============================] - 0s 8ms/step - loss: 0.0707 - mae: 0.1757 - val_loss: 0.0817 - val_mae: 0.2130\n",
            "Epoch 222/300\n",
            "10/10 [==============================] - 0s 7ms/step - loss: 0.0743 - mae: 0.1757 - val_loss: 0.0892 - val_mae: 0.2326\n",
            "Epoch 223/300\n",
            "10/10 [==============================] - 0s 9ms/step - loss: 0.0717 - mae: 0.1725 - val_loss: 0.0828 - val_mae: 0.2144\n",
            "Epoch 224/300\n",
            "10/10 [==============================] - 0s 8ms/step - loss: 0.0742 - mae: 0.1828 - val_loss: 0.0878 - val_mae: 0.2293\n",
            "Epoch 225/300\n",
            "10/10 [==============================] - 0s 7ms/step - loss: 0.0779 - mae: 0.1865 - val_loss: 0.1017 - val_mae: 0.2536\n",
            "Epoch 226/300\n",
            "10/10 [==============================] - 0s 7ms/step - loss: 0.0853 - mae: 0.2053 - val_loss: 0.0884 - val_mae: 0.2295\n",
            "Epoch 227/300\n",
            "10/10 [==============================] - 0s 9ms/step - loss: 0.0831 - mae: 0.2030 - val_loss: 0.0965 - val_mae: 0.2451\n",
            "Epoch 228/300\n",
            "10/10 [==============================] - 0s 6ms/step - loss: 0.0854 - mae: 0.2046 - val_loss: 0.0936 - val_mae: 0.2408\n",
            "Epoch 229/300\n",
            "10/10 [==============================] - 0s 8ms/step - loss: 0.0739 - mae: 0.1873 - val_loss: 0.0813 - val_mae: 0.2168\n",
            "Epoch 230/300\n",
            "10/10 [==============================] - 0s 6ms/step - loss: 0.0726 - mae: 0.1783 - val_loss: 0.0972 - val_mae: 0.2530\n",
            "Epoch 231/300\n",
            "10/10 [==============================] - 0s 7ms/step - loss: 0.0876 - mae: 0.2021 - val_loss: 0.0794 - val_mae: 0.2142\n",
            "Epoch 232/300\n",
            "10/10 [==============================] - 0s 7ms/step - loss: 0.0797 - mae: 0.1935 - val_loss: 0.0846 - val_mae: 0.2303\n",
            "Epoch 233/300\n",
            "10/10 [==============================] - 0s 9ms/step - loss: 0.0798 - mae: 0.1909 - val_loss: 0.0865 - val_mae: 0.2230\n",
            "Epoch 234/300\n",
            "10/10 [==============================] - 0s 8ms/step - loss: 0.0706 - mae: 0.1680 - val_loss: 0.0889 - val_mae: 0.2232\n",
            "Epoch 235/300\n",
            "10/10 [==============================] - 0s 6ms/step - loss: 0.0698 - mae: 0.1760 - val_loss: 0.0832 - val_mae: 0.2173\n",
            "Epoch 236/300\n",
            "10/10 [==============================] - 0s 6ms/step - loss: 0.0772 - mae: 0.1795 - val_loss: 0.0900 - val_mae: 0.2287\n",
            "Epoch 237/300\n",
            "10/10 [==============================] - 0s 6ms/step - loss: 0.0707 - mae: 0.1738 - val_loss: 0.0778 - val_mae: 0.2078\n",
            "Epoch 238/300\n",
            "10/10 [==============================] - 0s 7ms/step - loss: 0.0724 - mae: 0.1767 - val_loss: 0.0817 - val_mae: 0.2035\n",
            "Epoch 239/300\n",
            "10/10 [==============================] - 0s 5ms/step - loss: 0.0696 - mae: 0.1672 - val_loss: 0.0752 - val_mae: 0.2120\n",
            "Epoch 240/300\n",
            "10/10 [==============================] - 0s 5ms/step - loss: 0.0754 - mae: 0.1846 - val_loss: 0.0795 - val_mae: 0.2180\n",
            "Epoch 241/300\n",
            "10/10 [==============================] - 0s 5ms/step - loss: 0.0755 - mae: 0.1871 - val_loss: 0.0799 - val_mae: 0.2262\n",
            "Epoch 242/300\n",
            "10/10 [==============================] - 0s 6ms/step - loss: 0.0757 - mae: 0.1853 - val_loss: 0.0807 - val_mae: 0.2240\n",
            "Epoch 243/300\n",
            "10/10 [==============================] - 0s 5ms/step - loss: 0.0745 - mae: 0.1874 - val_loss: 0.0861 - val_mae: 0.2410\n",
            "Epoch 244/300\n",
            "10/10 [==============================] - 0s 5ms/step - loss: 0.0881 - mae: 0.2063 - val_loss: 0.0839 - val_mae: 0.2094\n",
            "Epoch 245/300\n",
            "10/10 [==============================] - 0s 6ms/step - loss: 0.0729 - mae: 0.1801 - val_loss: 0.0839 - val_mae: 0.2229\n",
            "Epoch 246/300\n",
            "10/10 [==============================] - 0s 6ms/step - loss: 0.0740 - mae: 0.1806 - val_loss: 0.0821 - val_mae: 0.2128\n",
            "Epoch 247/300\n",
            "10/10 [==============================] - 0s 6ms/step - loss: 0.0721 - mae: 0.1767 - val_loss: 0.0897 - val_mae: 0.2332\n",
            "Epoch 248/300\n",
            "10/10 [==============================] - 0s 5ms/step - loss: 0.0743 - mae: 0.1755 - val_loss: 0.0732 - val_mae: 0.1996\n",
            "Epoch 249/300\n",
            "10/10 [==============================] - 0s 6ms/step - loss: 0.0705 - mae: 0.1696 - val_loss: 0.0765 - val_mae: 0.2065\n",
            "Epoch 250/300\n",
            "10/10 [==============================] - 0s 6ms/step - loss: 0.0693 - mae: 0.1716 - val_loss: 0.0756 - val_mae: 0.2068\n",
            "Epoch 251/300\n",
            "10/10 [==============================] - 0s 7ms/step - loss: 0.0708 - mae: 0.1731 - val_loss: 0.0899 - val_mae: 0.2196\n",
            "Epoch 252/300\n",
            "10/10 [==============================] - 0s 7ms/step - loss: 0.0679 - mae: 0.1687 - val_loss: 0.0820 - val_mae: 0.2122\n",
            "Epoch 253/300\n",
            "10/10 [==============================] - 0s 7ms/step - loss: 0.0805 - mae: 0.1872 - val_loss: 0.0750 - val_mae: 0.2107\n",
            "Epoch 254/300\n",
            "10/10 [==============================] - 0s 7ms/step - loss: 0.0693 - mae: 0.1684 - val_loss: 0.0907 - val_mae: 0.2335\n",
            "Epoch 255/300\n",
            "10/10 [==============================] - 0s 7ms/step - loss: 0.0695 - mae: 0.1709 - val_loss: 0.0798 - val_mae: 0.2153\n",
            "Epoch 256/300\n",
            "10/10 [==============================] - 0s 7ms/step - loss: 0.0689 - mae: 0.1740 - val_loss: 0.0933 - val_mae: 0.2287\n",
            "Epoch 257/300\n",
            "10/10 [==============================] - 0s 7ms/step - loss: 0.0700 - mae: 0.1743 - val_loss: 0.1054 - val_mae: 0.2589\n",
            "Epoch 258/300\n",
            "10/10 [==============================] - 0s 7ms/step - loss: 0.0799 - mae: 0.1954 - val_loss: 0.0759 - val_mae: 0.2048\n",
            "Epoch 259/300\n",
            "10/10 [==============================] - 0s 7ms/step - loss: 0.0698 - mae: 0.1678 - val_loss: 0.0729 - val_mae: 0.2008\n",
            "Epoch 260/300\n",
            "10/10 [==============================] - 0s 7ms/step - loss: 0.0734 - mae: 0.1812 - val_loss: 0.0889 - val_mae: 0.2316\n",
            "Epoch 261/300\n",
            "10/10 [==============================] - 0s 6ms/step - loss: 0.0804 - mae: 0.1878 - val_loss: 0.1056 - val_mae: 0.2524\n",
            "Epoch 262/300\n",
            "10/10 [==============================] - 0s 7ms/step - loss: 0.0794 - mae: 0.2006 - val_loss: 0.0839 - val_mae: 0.2243\n",
            "Epoch 263/300\n",
            "10/10 [==============================] - 0s 7ms/step - loss: 0.0808 - mae: 0.1903 - val_loss: 0.0877 - val_mae: 0.2308\n",
            "Epoch 264/300\n",
            "10/10 [==============================] - 0s 7ms/step - loss: 0.0745 - mae: 0.1818 - val_loss: 0.0883 - val_mae: 0.2284\n",
            "Epoch 265/300\n",
            "10/10 [==============================] - 0s 6ms/step - loss: 0.0662 - mae: 0.1683 - val_loss: 0.0837 - val_mae: 0.2198\n",
            "Epoch 266/300\n",
            "10/10 [==============================] - 0s 6ms/step - loss: 0.0699 - mae: 0.1747 - val_loss: 0.0859 - val_mae: 0.2290\n",
            "Epoch 267/300\n",
            "10/10 [==============================] - 0s 5ms/step - loss: 0.0725 - mae: 0.1741 - val_loss: 0.0818 - val_mae: 0.2046\n",
            "Epoch 268/300\n",
            "10/10 [==============================] - 0s 6ms/step - loss: 0.0694 - mae: 0.1684 - val_loss: 0.0736 - val_mae: 0.2012\n",
            "Epoch 269/300\n",
            "10/10 [==============================] - 0s 6ms/step - loss: 0.0673 - mae: 0.1715 - val_loss: 0.0802 - val_mae: 0.2052\n",
            "Epoch 270/300\n",
            "10/10 [==============================] - 0s 6ms/step - loss: 0.0689 - mae: 0.1699 - val_loss: 0.0899 - val_mae: 0.2277\n",
            "Epoch 271/300\n",
            "10/10 [==============================] - 0s 5ms/step - loss: 0.0692 - mae: 0.1720 - val_loss: 0.0915 - val_mae: 0.2323\n",
            "Epoch 272/300\n",
            "10/10 [==============================] - 0s 6ms/step - loss: 0.0753 - mae: 0.1810 - val_loss: 0.0786 - val_mae: 0.2143\n",
            "Epoch 273/300\n",
            "10/10 [==============================] - 0s 5ms/step - loss: 0.0752 - mae: 0.1829 - val_loss: 0.0890 - val_mae: 0.2319\n",
            "Epoch 274/300\n",
            "10/10 [==============================] - 0s 6ms/step - loss: 0.0758 - mae: 0.1941 - val_loss: 0.1072 - val_mae: 0.2583\n",
            "Epoch 275/300\n",
            "10/10 [==============================] - 0s 6ms/step - loss: 0.0830 - mae: 0.2016 - val_loss: 0.0978 - val_mae: 0.2292\n",
            "Epoch 276/300\n",
            "10/10 [==============================] - 0s 6ms/step - loss: 0.0730 - mae: 0.1777 - val_loss: 0.1080 - val_mae: 0.2610\n",
            "Epoch 277/300\n",
            "10/10 [==============================] - 0s 7ms/step - loss: 0.0798 - mae: 0.1971 - val_loss: 0.1217 - val_mae: 0.2840\n",
            "Epoch 278/300\n",
            "10/10 [==============================] - 0s 8ms/step - loss: 0.0800 - mae: 0.2080 - val_loss: 0.0806 - val_mae: 0.2119\n",
            "Epoch 279/300\n",
            "10/10 [==============================] - 0s 9ms/step - loss: 0.0722 - mae: 0.1809 - val_loss: 0.0788 - val_mae: 0.2095\n",
            "Epoch 280/300\n",
            "10/10 [==============================] - 0s 6ms/step - loss: 0.0742 - mae: 0.1840 - val_loss: 0.0997 - val_mae: 0.2398\n",
            "Epoch 281/300\n",
            "10/10 [==============================] - 0s 7ms/step - loss: 0.0800 - mae: 0.1967 - val_loss: 0.0830 - val_mae: 0.2212\n",
            "Epoch 282/300\n",
            "10/10 [==============================] - 0s 7ms/step - loss: 0.0723 - mae: 0.1758 - val_loss: 0.0803 - val_mae: 0.2083\n",
            "Epoch 283/300\n",
            "10/10 [==============================] - 0s 9ms/step - loss: 0.0745 - mae: 0.1781 - val_loss: 0.0948 - val_mae: 0.2294\n",
            "Epoch 284/300\n",
            "10/10 [==============================] - 0s 7ms/step - loss: 0.0752 - mae: 0.1807 - val_loss: 0.0908 - val_mae: 0.2323\n",
            "Epoch 285/300\n",
            "10/10 [==============================] - 0s 7ms/step - loss: 0.0688 - mae: 0.1678 - val_loss: 0.0843 - val_mae: 0.2086\n",
            "Epoch 286/300\n",
            "10/10 [==============================] - 0s 7ms/step - loss: 0.0688 - mae: 0.1800 - val_loss: 0.0865 - val_mae: 0.2199\n",
            "Epoch 287/300\n",
            "10/10 [==============================] - 0s 7ms/step - loss: 0.0808 - mae: 0.2007 - val_loss: 0.0856 - val_mae: 0.2333\n",
            "Epoch 288/300\n",
            "10/10 [==============================] - 0s 9ms/step - loss: 0.0747 - mae: 0.1799 - val_loss: 0.0715 - val_mae: 0.1935\n",
            "Epoch 289/300\n",
            "10/10 [==============================] - 0s 10ms/step - loss: 0.0758 - mae: 0.1895 - val_loss: 0.0892 - val_mae: 0.2385\n",
            "Epoch 290/300\n",
            "10/10 [==============================] - 0s 7ms/step - loss: 0.0776 - mae: 0.1933 - val_loss: 0.0795 - val_mae: 0.2146\n",
            "Epoch 291/300\n",
            "10/10 [==============================] - 0s 6ms/step - loss: 0.0713 - mae: 0.1774 - val_loss: 0.0772 - val_mae: 0.2115\n",
            "Epoch 292/300\n",
            "10/10 [==============================] - 0s 5ms/step - loss: 0.0874 - mae: 0.2080 - val_loss: 0.1192 - val_mae: 0.2643\n",
            "Epoch 293/300\n",
            "10/10 [==============================] - 0s 6ms/step - loss: 0.0814 - mae: 0.2001 - val_loss: 0.1040 - val_mae: 0.2658\n",
            "Epoch 294/300\n",
            "10/10 [==============================] - 0s 6ms/step - loss: 0.0792 - mae: 0.1874 - val_loss: 0.0823 - val_mae: 0.2274\n",
            "Epoch 295/300\n",
            "10/10 [==============================] - 0s 6ms/step - loss: 0.0807 - mae: 0.2010 - val_loss: 0.0946 - val_mae: 0.2540\n",
            "Epoch 296/300\n",
            "10/10 [==============================] - 0s 8ms/step - loss: 0.0770 - mae: 0.1942 - val_loss: 0.0767 - val_mae: 0.1991\n",
            "Epoch 297/300\n",
            "10/10 [==============================] - 0s 6ms/step - loss: 0.0806 - mae: 0.1926 - val_loss: 0.1067 - val_mae: 0.2618\n",
            "Epoch 298/300\n",
            "10/10 [==============================] - 0s 6ms/step - loss: 0.0848 - mae: 0.2119 - val_loss: 0.0993 - val_mae: 0.2406\n",
            "Epoch 299/300\n",
            "10/10 [==============================] - 0s 6ms/step - loss: 0.0861 - mae: 0.1985 - val_loss: 0.0925 - val_mae: 0.2401\n",
            "Epoch 300/300\n",
            "10/10 [==============================] - 0s 5ms/step - loss: 0.0849 - mae: 0.2140 - val_loss: 0.0727 - val_mae: 0.2020\n"
          ]
        }
      ]
    },
    {
      "cell_type": "code",
      "source": [
        "loss, acc = model.evaluate(x_test, y_test, verbose=1)\n",
        "\n",
        "print(f\"The loss is {loss}, The accuracy is {acc}\") "
      ],
      "metadata": {
        "colab": {
          "base_uri": "https://localhost:8080/"
        },
        "id": "NA1xVscEi9lf",
        "outputId": "b90c72af-f906-4c1d-fd39-7def6f0d03a5"
      },
      "execution_count": 63,
      "outputs": [
        {
          "output_type": "stream",
          "name": "stdout",
          "text": [
            "4/4 [==============================] - 0s 3ms/step - loss: 0.0845 - mae: 0.2064\n",
            "The loss is 0.08446192741394043, The accuracy is 0.2063591629266739\n"
          ]
        }
      ]
    },
    {
      "cell_type": "markdown",
      "source": [
        "## Model Scores"
      ],
      "metadata": {
        "id": "CCX591EoerD6"
      }
    },
    {
      "cell_type": "code",
      "source": [
        "myTable=PrettyTable([\"Model\", \"Prediction\", \"Best Parameters\"])"
      ],
      "metadata": {
        "id": "E2zsjIIJe4UI"
      },
      "execution_count": 64,
      "outputs": []
    },
    {
      "cell_type": "code",
      "source": [
        "myTable.add_row([\"Logistic Regression\", lr_best_score, lr_best_params])\n",
        "myTable.add_row([\"Random Forest\", rf_best_score, rf_best_params])\n",
        "myTable.add_row([\"Decision Tree\", dt_best_score, dt_best_params])\n",
        "myTable.add_row([\"SVC\", svc_best_score, svc_best_params])\n",
        "myTable.add_row([\"ADA Boosting\", ada_score, \"[n_estimators=1000, random_state=100, learning_rate=3]\"])\n",
        "myTable.add_row([\"ANN\", acc, \"3 dense layers, activation='relu', optimizer='adam', loss and metrics = 'mse', epochs=300\"])"
      ],
      "metadata": {
        "id": "sJZD_Fsfe5Eo"
      },
      "execution_count": 65,
      "outputs": []
    },
    {
      "cell_type": "code",
      "source": [
        "print(myTable)"
      ],
      "metadata": {
        "colab": {
          "base_uri": "https://localhost:8080/"
        },
        "id": "33W7utr1e8NC",
        "outputId": "2f790814-405f-4cc6-df7d-752139a649ed"
      },
      "execution_count": 66,
      "outputs": [
        {
          "output_type": "stream",
          "name": "stdout",
          "text": [
            "+---------------------+--------------------+-------------------------------------------------------------------------------------------+\n",
            "|        Model        |     Prediction     |                                      Best Parameters                                      |\n",
            "+---------------------+--------------------+-------------------------------------------------------------------------------------------+\n",
            "| Logistic Regression |        0.93        |                      {'C': 1000, 'max_iter': 1000, 'solver': 'lbfgs'}                     |\n",
            "|    Random Forest    |       0.8525       |                       {'criterion': 'entropy', 'n_estimators': 500}                       |\n",
            "|    Decision Tree    | 0.8300000000000001 |              {'criterion': 'gini', 'random_state': 100, 'splitter': 'random'}             |\n",
            "|         SVC         | 0.9400000000000001 |                     {'C': 1000, 'kernel': 'linear', 'random_state': 0}                    |\n",
            "|     ADA Boosting    |        0.57        |                   [n_estimators=1000, random_state=100, learning_rate=3]                  |\n",
            "|         ANN         | 0.2063591629266739 | 3 dense layers, activation='relu', optimizer='adam', loss and metrics = 'mse', epochs=300 |\n",
            "+---------------------+--------------------+-------------------------------------------------------------------------------------------+\n"
          ]
        }
      ]
    },
    {
      "cell_type": "markdown",
      "source": [
        "## SVC - best model at 94% - confusion matrix and classification report"
      ],
      "metadata": {
        "id": "FsGW3ox_kQaL"
      }
    },
    {
      "cell_type": "code",
      "source": [
        "SVC_best_model=SVC(C=1000, kernel='linear', random_state=0)"
      ],
      "metadata": {
        "id": "zT9GxOgRkWXK"
      },
      "execution_count": 83,
      "outputs": []
    },
    {
      "cell_type": "code",
      "source": [
        "SVC_best_model.fit(x_train, y_train)"
      ],
      "metadata": {
        "colab": {
          "base_uri": "https://localhost:8080/"
        },
        "id": "rpE63DArmhxb",
        "outputId": "78f6be1f-5b72-40ba-d60a-528d53a2b8a7"
      },
      "execution_count": 84,
      "outputs": [
        {
          "output_type": "execute_result",
          "data": {
            "text/plain": [
              "SVC(C=1000, kernel='linear', random_state=0)"
            ]
          },
          "metadata": {},
          "execution_count": 84
        }
      ]
    },
    {
      "cell_type": "code",
      "source": [
        "y_pred_best_svc = SVC_best_model.predict(x_test)"
      ],
      "metadata": {
        "id": "71ZnuWwFkhAS"
      },
      "execution_count": 85,
      "outputs": []
    },
    {
      "cell_type": "code",
      "source": [
        "SVC_best_cm=confusion_matrix(y_test,y_pred_best_svc)"
      ],
      "metadata": {
        "id": "wwOMvcBdkhTQ"
      },
      "execution_count": 86,
      "outputs": []
    },
    {
      "cell_type": "code",
      "source": [
        "disp=ConfusionMatrixDisplay(confusion_matrix=SVC_best_cm, display_labels=SVC_best_model.classes_)\n",
        "disp.plot()\n",
        "plt.show()"
      ],
      "metadata": {
        "colab": {
          "base_uri": "https://localhost:8080/",
          "height": 279
        },
        "id": "7PH707mSkhpx",
        "outputId": "a15c7f1d-6ce3-4562-c75b-0a63daf364a6"
      },
      "execution_count": 88,
      "outputs": [
        {
          "output_type": "display_data",
          "data": {
            "text/plain": [
              "<Figure size 432x288 with 2 Axes>"
            ],
            "image/png": "[encoded data removed]"
          },
          "metadata": {
            "needs_background": "light"
          }
        }
      ]
    },
    {
      "cell_type": "code",
      "source": [
        "print(classification_report(y_test, y_pred_best_svc, zero_division=True))"
      ],
      "metadata": {
        "colab": {
          "base_uri": "https://localhost:8080/"
        },
        "id": "B5K6Pj5Ck0gb",
        "outputId": "1d9bd71c-7cd6-47b5-d09f-6b9c68e8a605"
      },
      "execution_count": 89,
      "outputs": [
        {
          "output_type": "stream",
          "name": "stdout",
          "text": [
            "              precision    recall  f1-score   support\n",
            "\n",
            "           0       0.75      1.00      0.86         3\n",
            "           1       1.00      0.75      0.86         4\n",
            "           2       1.00      1.00      1.00        14\n",
            "           3       1.00      1.00      1.00        14\n",
            "           4       0.96      0.96      0.96        26\n",
            "           5       0.97      0.97      0.97        39\n",
            "\n",
            "    accuracy                           0.97       100\n",
            "   macro avg       0.95      0.95      0.94       100\n",
            "weighted avg       0.97      0.97      0.97       100\n",
            "\n"
          ]
        }
      ]
    },
    {
      "cell_type": "markdown",
      "source": [
        "## Dataset Used\n",
        "https://www.kaggle.com/datasets/yasserh/bmidataset"
      ],
      "metadata": {
        "id": "HfrecoW5DNH5"
      }
    }
  ]
}